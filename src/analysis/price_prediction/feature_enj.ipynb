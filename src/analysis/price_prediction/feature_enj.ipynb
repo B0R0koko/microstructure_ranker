{
 "cells": [
  {
   "cell_type": "code",
   "execution_count": null,
   "id": "6de88067a9bd90a9",
   "metadata": {},
   "outputs": [],
   "source": [
    "from core.paths import HIVE_TRADES\n",
    "from core.currency import CurrencyPair\n",
    "from core.columns import SYMBOL, TRADE_TIME\n",
    "from core.time_utils import Bounds\n",
    "from datetime import datetime\n",
    "\n",
    "import polars as pl"
   ]
  },
  {
   "cell_type": "markdown",
   "id": "e0993ed0-1341-49d8-a13c-ad33f2a5a551",
   "metadata": {},
   "source": [
    "<h4>In this notebook we will refine our features and test if everything is calculated properly</h4>"
   ]
  },
  {
   "cell_type": "code",
   "execution_count": null,
   "id": "230c4834-6c6f-40d7-aa79-832267100b8e",
   "metadata": {},
   "outputs": [],
   "source": [
    "hive = pl.scan_parquet(source=HIVE_TRADES, hive_partitioning=True)"
   ]
  },
  {
   "cell_type": "code",
   "execution_count": null,
   "id": "70826506-4607-4e4b-bcc9-b459d00ecf50",
   "metadata": {},
   "outputs": [],
   "source": [
    "currency_pair: CurrencyPair = CurrencyPair.from_string(\"ADA-USDT\")\n",
    "\n",
    "bounds: Bounds = Bounds(\n",
    "    datetime(2025, 1, 1, 0, 0, 0),\n",
    "    datetime(2025, 1, 30, 0, 0, 0)\n",
    ")\n",
    "\n",
    "str(bounds)"
   ]
  },
  {
   "cell_type": "code",
   "execution_count": null,
   "id": "75e00751-4a5a-4e4a-a211-5c2ba3452479",
   "metadata": {},
   "outputs": [],
   "source": [
    "df_ticks: pl.DataFrame = hive.filter(\n",
    "    (pl.col(SYMBOL) == currency_pair.name) &\n",
    "    # Load data by filtering by both hive folder structure and columns inside each parquet file\n",
    "    (pl.col(\"date\").is_between(bounds.day0, bounds.day1)) &\n",
    "    (pl.col(TRADE_TIME).is_between(bounds.start_inclusive, bounds.end_exclusive))\n",
    ").collect()"
   ]
  },
  {
   "cell_type": "code",
   "execution_count": null,
   "id": "d19d0c2b-2c43-49c8-9410-6565543a3241",
   "metadata": {},
   "outputs": [],
   "source": [
    "df_ticks.select(\n",
    "    pl.col(\"trade_time\").min().alias(\"min_time\"), \n",
    "    pl.col(\"trade_time\").max().alias(\"max_time\")\n",
    ")"
   ]
  },
  {
   "cell_type": "code",
   "execution_count": null,
   "id": "043b7dbc-a814-4a37-bbc2-b4e3e42fb941",
   "metadata": {},
   "outputs": [],
   "source": [
    "df_ticks = df_ticks.sort(by=\"trade_time\", descending=False)\n",
    "df_ticks.tail()"
   ]
  },
  {
   "cell_type": "markdown",
   "id": "9cb34ea6-af93-46e5-a4d5-70a15808870f",
   "metadata": {},
   "source": [
    "<h4>Now compute features</h4>"
   ]
  },
  {
   "cell_type": "code",
   "execution_count": null,
   "id": "f4626c71-f5e0-48e4-a529-bdd896c0a5dd",
   "metadata": {},
   "outputs": [],
   "source": [
    "df_ticks = df_ticks.with_columns(\n",
    "    quote_abs=(pl.col(\"price\") * pl.col(\"quantity\")),  # absolute value of quote transacted\n",
    "    # When is_buyer_maker is True => someone came in and matched existing BID order => SELL\n",
    "    # When is_buyer_maker is False => buyer came on and matched existing ASK order => BUY\n",
    "    side_sign=1 - 2 * pl.col(\"is_buyer_maker\")  # -1 if SELL, 1 if BUY\n",
    ")\n",
    "df_ticks = df_ticks.with_columns(\n",
    "    quantity_sign=pl.col(\"side_sign\") * pl.col(\"quantity\"),\n",
    "    quote_sign=pl.col(\"side_sign\") * pl.col(\"quote_abs\")\n",
    ")\n",
    "\n",
    "df_ticks.head()"
   ]
  },
  {
   "cell_type": "markdown",
   "id": "94206963-fe80-448d-8d3d-63d6a9056429",
   "metadata": {},
   "source": [
    "<h4>Group by ticks into trades by trade_time</h4>"
   ]
  },
  {
   "cell_type": "code",
   "execution_count": null,
   "id": "f3527419-d1b6-4832-b2e1-080c4f041d62",
   "metadata": {},
   "outputs": [],
   "source": [
    "df_trades: pl.DataFrame = (\n",
    "    df_ticks\n",
    "    .group_by(\"trade_time\", maintain_order=True)\n",
    "    .agg(\n",
    "        price_first=pl.col(\"price\").first(),  # if someone placed a trade with price impact, then price_first\n",
    "        price_last=pl.col(\"price\").last(),  # and price_last will differ\n",
    "        # Amount spent in quote asset for the trade\n",
    "        quote_abs=pl.col(\"quote_abs\").sum(),\n",
    "        quote_sign=pl.col(\"quote_sign\").sum(),\n",
    "        # Amount of base asset transacted\n",
    "        quantity_abs=pl.col(\"quantity\").sum(),\n",
    "        quantity_sign=pl.col(\"quantity_sign\").sum(),\n",
    "        num_ticks=pl.col(\"price\").count(),  # number of ticks for each trade\n",
    "    )\n",
    ")\n",
    "# Create boolean indicating if the trade was long or short\n",
    "df_trades = df_trades.with_columns(\n",
    "    (pl.col(\"quantity_sign\") >= 0).alias(\"is_long\")\n",
    ")\n",
    "\n",
    "df_trades.head()"
   ]
  },
  {
   "cell_type": "code",
   "execution_count": null,
   "id": "7ec59e79-c8be-4eae-946c-75864f6d3cbc",
   "metadata": {},
   "outputs": [],
   "source": [
    "df_trades[\"trade_time\"].is_sorted()"
   ]
  },
  {
   "cell_type": "markdown",
   "id": "13dbb212-9fa2-4b94-9146-360a1f71bd61",
   "metadata": {},
   "source": [
    "<h4>Compute slippages</h4>\n",
    "\n",
    "<p>Compute slippage as the difference between the actual amount of quote asset spent and the amount that could\n",
    "    have been spent had all been executed at price_first</p>"
   ]
  },
  {
   "cell_type": "code",
   "execution_count": null,
   "id": "426a7aa9-5bb1-4b10-b9cd-21ef9a6e3b68",
   "metadata": {},
   "outputs": [],
   "source": [
    "df_trades = df_trades.with_columns(\n",
    "    quote_slippage_abs=(pl.col(\"quote_abs\") - pl.col(\"price_first\") * pl.col(\"quantity_abs\")).abs()\n",
    ")\n",
    "df_trades = df_trades.with_columns(\n",
    "    quote_slippage_sign=pl.col(\"quote_slippage_abs\") * pl.col(\"quantity_sign\").sign()\n",
    ")"
   ]
  },
  {
   "cell_type": "code",
   "execution_count": null,
   "id": "ecccd98e-48d3-412b-8eb7-70293be0664d",
   "metadata": {},
   "outputs": [],
   "source": [
    "df_trades.head()"
   ]
  },
  {
   "cell_type": "markdown",
   "id": "c5a56e89-7f28-4f1c-ba86-f1b525e38d2f",
   "metadata": {},
   "source": [
    "<h4>Log return features</h4>"
   ]
  },
  {
   "cell_type": "code",
   "execution_count": null,
   "id": "f20e0d78-d3c1-4a7f-a4b5-d41318d46b6d",
   "metadata": {},
   "outputs": [],
   "source": [
    "# create hourly candles to capture dynamics of hourly log_returns over different intervals\n",
    "df_hourly: pl.DataFrame = (\n",
    "    df_trades\n",
    "    .group_by_dynamic(\n",
    "        index_column=\"trade_time\",\n",
    "        every=\"1h\",\n",
    "        period=\"1h\",\n",
    "        closed=\"left\",\n",
    "        label=\"left\"\n",
    "    )\n",
    "    .agg(\n",
    "        log_return=(pl.col(\"price_last\").last() - pl.col(\"price_first\").first()) / pl.col(\"price_first\").first(),\n",
    "        quote_volume=pl.col(\"quote_abs\").sum(),\n",
    "        long_quote_volume=(pl.col(\"quote_abs\") * pl.col(\"is_long\")).sum(),\n",
    "        quote_slippage_abs=pl.col(\"quote_slippage_abs\").sum()\n",
    "    )\n",
    ")\n",
    "\n",
    "df_hourly.tail()"
   ]
  },
  {
   "cell_type": "code",
   "execution_count": null,
   "id": "f9a04855-5d2f-41c4-bf74-b004cdb1de98",
   "metadata": {},
   "outputs": [],
   "source": [
    "from core.time_utils import TimeOffset\n",
    "from datetime import datetime, timedelta\n",
    "from tqdm import tqdm\n",
    "from typing import *\n",
    "\n",
    "# generate features\n",
    "hour_offsets: List[int] = [1, 2, 4, 8, 12, 24, 24*3, 24*7, 24*14]\n",
    "hourly_features: Dict[str, float] = {}\n",
    "\n",
    "log_return_std_30d: float = df_hourly[\"log_return\"].std() # long run std of hourly log_returns\n",
    "\n",
    "quote_volume_mean_30d: float = df_hourly[\"quote_volume\"].mean()\n",
    "quote_volume_std_30d: float = df_hourly[\"quote_volume\"].std()\n",
    "\n",
    "quote_long_volume_mean_30d: float = df_hourly[\"long_quote_volume\"].mean()\n",
    "quote_long_volume_std_30d: float = df_hourly[\"long_quote_volume\"].std()\n",
    "\n",
    "quote_slippage_abs_mean_30d: float = df_hourly[\"quote_slippage_abs\"].sum()\n",
    "quote_slippage_abs_std_30d: float = df_hourly[\"quote_slippage_abs\"].std()\n",
    "\n",
    "for offset in tqdm(hour_offsets):\n",
    "    df_interval: pl.DataFrame = df_hourly.filter(\n",
    "        pl.col(\"trade_time\").is_between(bounds.end_exclusive - timedelta(hours=offset), bounds.end_exclusive)\n",
    "    )\n",
    "    # Get dynamics of hourly log_returns relative to long run standard deviation\n",
    "    hourly_features[f\"hourly_log_return_zscore{offset}h_30d\"] = df_interval[\"log_return\"].mean() / log_return_std_30d\n",
    "    # Standardize volume dynamics to long run mean volume and std volume\n",
    "    hourly_features[f\"hourly_quote_volume_zscore{offset}h_30d\"] = (\n",
    "        (df_interval[\"quote_volume\"].mean() - quote_volume_mean_30d) / quote_volume_std_30d\n",
    "    )\n",
    "    # Similarily do for long volume\n",
    "    hourly_features[f\"hourly_long_quote_volume_zscore{offset}h_30d\"] = (\n",
    "        (df_interval[\"long_quote_volume\"].mean() - quote_long_volume_mean_30d) / quote_long_volume_std_30d\n",
    "    )\n",
    "    # Std of hourly returns scaled by long run std of hourly returns\n",
    "    if offset >= 4:\n",
    "        hourly_features[f\"hourly_log_return_std{offset}h_30d\"] = df_interval[\"log_return\"].std() / log_return_std_30d\n",
    "    \n",
    "    # Dynamics of hourly slippages, how fluid is the market\n",
    "    hourly_features[f\"hourly_quote_slippage_abs_zscore{offset}h_30d\"] = (\n",
    "        (df_interval[\"quote_slippage_abs\"].mean() - quote_slippage_abs_mean_30d) / quote_slippage_abs_std_30d\n",
    "    )"
   ]
  },
  {
   "cell_type": "code",
   "execution_count": null,
   "id": "7d794dc5-bb3a-45b3-9551-d3edcbe75818",
   "metadata": {},
   "outputs": [],
   "source": [
    "hourly_features"
   ]
  }
 ],
 "metadata": {
  "kernelspec": {
   "display_name": "Python 3 (ipykernel)",
   "language": "python",
   "name": "python3"
  },
  "language_info": {
   "codemirror_mode": {
    "name": "ipython",
    "version": 3
   },
   "file_extension": ".py",
   "mimetype": "text/x-python",
   "name": "python",
   "nbconvert_exporter": "python",
   "pygments_lexer": "ipython3",
   "version": "3.12.4"
  }
 },
 "nbformat": 4,
 "nbformat_minor": 5
}
