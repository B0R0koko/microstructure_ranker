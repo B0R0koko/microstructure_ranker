{
 "cells": [
  {
   "cell_type": "code",
   "execution_count": 4,
   "id": "initial_id",
   "metadata": {},
   "outputs": [],
   "source": [
    "import polars as pl"
   ]
  },
  {
   "cell_type": "code",
   "execution_count": 5,
   "id": "f5b8aae9-45ee-4e7c-9c9e-73b11a8dd7f4",
   "metadata": {},
   "outputs": [],
   "source": [
    "df = pl.read_parquet(\n",
    "    r\"D:\\data\\features\\pumps\\ACM-BTC@BINANCE_SPOT-2021-06-05.parquet\"\n",
    ")"
   ]
  },
  {
   "cell_type": "code",
   "execution_count": 6,
   "id": "34b428a8-7211-4eb1-a075-2e641e645885",
   "metadata": {},
   "outputs": [
    {
     "name": "stderr",
     "output_type": "stream",
     "text": [
      "C:\\Users\\mihai\\AppData\\Local\\pypoetry\\Cache\\virtualenvs\\microstructure-price-prediction-Hq7BEu2j-py3.12\\Lib\\site-packages\\pandas\\core\\nanops.py:1016: RuntimeWarning: invalid value encountered in subtract\n",
      "  sqr = _ensure_numeric((avg - values) ** 2)\n",
      "C:\\Users\\mihai\\AppData\\Local\\pypoetry\\Cache\\virtualenvs\\microstructure-price-prediction-Hq7BEu2j-py3.12\\Lib\\site-packages\\numpy\\lib\\function_base.py:4655: RuntimeWarning: invalid value encountered in subtract\n",
      "  diff_b_a = subtract(b, a)\n",
      "C:\\Users\\mihai\\AppData\\Local\\pypoetry\\Cache\\virtualenvs\\microstructure-price-prediction-Hq7BEu2j-py3.12\\Lib\\site-packages\\pandas\\core\\nanops.py:1016: RuntimeWarning: invalid value encountered in subtract\n",
      "  sqr = _ensure_numeric((avg - values) ** 2)\n",
      "C:\\Users\\mihai\\AppData\\Local\\pypoetry\\Cache\\virtualenvs\\microstructure-price-prediction-Hq7BEu2j-py3.12\\Lib\\site-packages\\pandas\\core\\nanops.py:1016: RuntimeWarning: invalid value encountered in subtract\n",
      "  sqr = _ensure_numeric((avg - values) ** 2)\n",
      "C:\\Users\\mihai\\AppData\\Local\\pypoetry\\Cache\\virtualenvs\\microstructure-price-prediction-Hq7BEu2j-py3.12\\Lib\\site-packages\\pandas\\core\\nanops.py:1016: RuntimeWarning: invalid value encountered in subtract\n",
      "  sqr = _ensure_numeric((avg - values) ** 2)\n"
     ]
    },
    {
     "data": {
      "text/html": [
       "<div>\n",
       "<style scoped>\n",
       "    .dataframe tbody tr th:only-of-type {\n",
       "        vertical-align: middle;\n",
       "    }\n",
       "\n",
       "    .dataframe tbody tr th {\n",
       "        vertical-align: top;\n",
       "    }\n",
       "\n",
       "    .dataframe thead th {\n",
       "        text-align: right;\n",
       "    }\n",
       "</style>\n",
       "<table border=\"1\" class=\"dataframe\">\n",
       "  <thead>\n",
       "    <tr style=\"text-align: right;\">\n",
       "      <th></th>\n",
       "      <th>count</th>\n",
       "      <th>mean</th>\n",
       "      <th>std</th>\n",
       "      <th>min</th>\n",
       "      <th>25%</th>\n",
       "      <th>50%</th>\n",
       "      <th>75%</th>\n",
       "      <th>max</th>\n",
       "    </tr>\n",
       "  </thead>\n",
       "  <tbody>\n",
       "    <tr>\n",
       "      <th>target_return@1MIN</th>\n",
       "      <td>184.0</td>\n",
       "      <td>9.510074</td>\n",
       "      <td>44.533865</td>\n",
       "      <td>-409.836066</td>\n",
       "      <td>0.000000</td>\n",
       "      <td>8.279258</td>\n",
       "      <td>22.235475</td>\n",
       "      <td>148.148148</td>\n",
       "    </tr>\n",
       "    <tr>\n",
       "      <th>target_return@2MIN</th>\n",
       "      <td>208.0</td>\n",
       "      <td>13.548219</td>\n",
       "      <td>61.625111</td>\n",
       "      <td>-491.803279</td>\n",
       "      <td>0.000000</td>\n",
       "      <td>10.169566</td>\n",
       "      <td>27.047956</td>\n",
       "      <td>416.666667</td>\n",
       "    </tr>\n",
       "    <tr>\n",
       "      <th>target_return@3MIN</th>\n",
       "      <td>221.0</td>\n",
       "      <td>17.386412</td>\n",
       "      <td>68.329762</td>\n",
       "      <td>-573.770492</td>\n",
       "      <td>0.000000</td>\n",
       "      <td>15.847861</td>\n",
       "      <td>33.161670</td>\n",
       "      <td>416.666667</td>\n",
       "    </tr>\n",
       "    <tr>\n",
       "      <th>target_return@4MIN</th>\n",
       "      <td>245.0</td>\n",
       "      <td>9.890870</td>\n",
       "      <td>79.345972</td>\n",
       "      <td>-737.704918</td>\n",
       "      <td>-1.699235</td>\n",
       "      <td>0.000000</td>\n",
       "      <td>21.130481</td>\n",
       "      <td>416.666667</td>\n",
       "    </tr>\n",
       "    <tr>\n",
       "      <th>target_return@5MIN</th>\n",
       "      <td>260.0</td>\n",
       "      <td>12.438841</td>\n",
       "      <td>86.673924</td>\n",
       "      <td>-737.704918</td>\n",
       "      <td>-8.220006</td>\n",
       "      <td>0.000000</td>\n",
       "      <td>23.230373</td>\n",
       "      <td>444.444444</td>\n",
       "    </tr>\n",
       "  </tbody>\n",
       "</table>\n",
       "</div>"
      ],
      "text/plain": [
       "                    count       mean        std         min       25%  \\\n",
       "target_return@1MIN  184.0   9.510074  44.533865 -409.836066  0.000000   \n",
       "target_return@2MIN  208.0  13.548219  61.625111 -491.803279  0.000000   \n",
       "target_return@3MIN  221.0  17.386412  68.329762 -573.770492  0.000000   \n",
       "target_return@4MIN  245.0   9.890870  79.345972 -737.704918 -1.699235   \n",
       "target_return@5MIN  260.0  12.438841  86.673924 -737.704918 -8.220006   \n",
       "\n",
       "                          50%        75%         max  \n",
       "target_return@1MIN   8.279258  22.235475  148.148148  \n",
       "target_return@2MIN  10.169566  27.047956  416.666667  \n",
       "target_return@3MIN  15.847861  33.161670  416.666667  \n",
       "target_return@4MIN   0.000000  21.130481  416.666667  \n",
       "target_return@5MIN   0.000000  23.230373  444.444444  "
      ]
     },
     "execution_count": 6,
     "metadata": {},
     "output_type": "execute_result"
    }
   ],
   "source": [
    "df.to_pandas().describe().T.tail()"
   ]
  },
  {
   "cell_type": "code",
   "execution_count": 7,
   "id": "cc8e6224-6d68-4dac-bb95-2349407b2e45",
   "metadata": {},
   "outputs": [
    {
     "data": {
      "text/html": [
       "<div><style>\n",
       ".dataframe > thead > tr,\n",
       ".dataframe > tbody > tr {\n",
       "  text-align: right;\n",
       "  white-space: pre-wrap;\n",
       "}\n",
       "</style>\n",
       "<small>shape: (271, 101)</small><table border=\"1\" class=\"dataframe\"><thead><tr><th>asset_return@1MIN</th><th>asset_return_zscore@1MIN</th><th>quote_abs_zscore@1MIN</th><th>share_of_long_trades@1MIN</th><th>powerlaw_alpha@1MIN</th><th>slippage_imbalance@1MIN</th><th>flow_imbalance@1MIN</th><th>num_trades@1MIN</th><th>asset_return@2MIN</th><th>asset_return_zscore@2MIN</th><th>quote_abs_zscore@2MIN</th><th>share_of_long_trades@2MIN</th><th>powerlaw_alpha@2MIN</th><th>slippage_imbalance@2MIN</th><th>flow_imbalance@2MIN</th><th>num_trades@2MIN</th><th>asset_return@5MIN</th><th>asset_return_zscore@5MIN</th><th>quote_abs_zscore@5MIN</th><th>share_of_long_trades@5MIN</th><th>powerlaw_alpha@5MIN</th><th>slippage_imbalance@5MIN</th><th>flow_imbalance@5MIN</th><th>num_trades@5MIN</th><th>asset_return@15MIN</th><th>asset_return_zscore@15MIN</th><th>quote_abs_zscore@15MIN</th><th>share_of_long_trades@15MIN</th><th>powerlaw_alpha@15MIN</th><th>slippage_imbalance@15MIN</th><th>flow_imbalance@15MIN</th><th>num_trades@15MIN</th><th>asset_return@1H</th><th>asset_return_zscore@1H</th><th>quote_abs_zscore@1H</th><th>share_of_long_trades@1H</th><th>powerlaw_alpha@1H</th><th>&hellip;</th><th>asset_return@1D</th><th>asset_return_zscore@1D</th><th>quote_abs_zscore@1D</th><th>share_of_long_trades@1D</th><th>powerlaw_alpha@1D</th><th>slippage_imbalance@1D</th><th>flow_imbalance@1D</th><th>num_trades@1D</th><th>asset_return@2D</th><th>asset_return_zscore@2D</th><th>quote_abs_zscore@2D</th><th>share_of_long_trades@2D</th><th>powerlaw_alpha@2D</th><th>slippage_imbalance@2D</th><th>flow_imbalance@2D</th><th>num_trades@2D</th><th>asset_return@7D</th><th>asset_return_zscore@7D</th><th>quote_abs_zscore@7D</th><th>share_of_long_trades@7D</th><th>powerlaw_alpha@7D</th><th>slippage_imbalance@7D</th><th>flow_imbalance@7D</th><th>num_trades@7D</th><th>asset_return@14D</th><th>asset_return_zscore@14D</th><th>quote_abs_zscore@14D</th><th>share_of_long_trades@14D</th><th>powerlaw_alpha@14D</th><th>slippage_imbalance@14D</th><th>flow_imbalance@14D</th><th>num_trades@14D</th><th>target_return@1MIN</th><th>target_return@2MIN</th><th>target_return@3MIN</th><th>target_return@4MIN</th><th>target_return@5MIN</th></tr><tr><td>f64</td><td>f64</td><td>f64</td><td>f64</td><td>f64</td><td>f64</td><td>f64</td><td>i64</td><td>f64</td><td>f64</td><td>f64</td><td>f64</td><td>f64</td><td>f64</td><td>f64</td><td>i64</td><td>f64</td><td>f64</td><td>f64</td><td>f64</td><td>f64</td><td>f64</td><td>f64</td><td>i64</td><td>f64</td><td>f64</td><td>f64</td><td>f64</td><td>f64</td><td>f64</td><td>f64</td><td>i64</td><td>f64</td><td>f64</td><td>f64</td><td>f64</td><td>f64</td><td>&hellip;</td><td>f64</td><td>f64</td><td>f64</td><td>f64</td><td>f64</td><td>f64</td><td>f64</td><td>i64</td><td>f64</td><td>f64</td><td>f64</td><td>f64</td><td>f64</td><td>f64</td><td>f64</td><td>i64</td><td>f64</td><td>f64</td><td>f64</td><td>f64</td><td>f64</td><td>f64</td><td>f64</td><td>i64</td><td>f64</td><td>f64</td><td>f64</td><td>f64</td><td>f64</td><td>f64</td><td>f64</td><td>i64</td><td>f64</td><td>f64</td><td>f64</td><td>f64</td><td>f64</td></tr></thead><tbody><tr><td>-73.529412</td><td>-0.415743</td><td>0.042411</td><td>0.0</td><td>inf</td><td>NaN</td><td>-1.0</td><td>1</td><td>0.0</td><td>-0.415743</td><td>0.042411</td><td>0.5</td><td>2.001024</td><td>NaN</td><td>-0.761164</td><td>2</td><td>0.0</td><td>-0.415743</td><td>0.042411</td><td>0.142857</td><td>1.583651</td><td>-1.0</td><td>-0.957443</td><td>7</td><td>0.0</td><td>-0.415743</td><td>0.042411</td><td>0.25</td><td>1.592051</td><td>-1.0</td><td>-0.90417</td><td>20</td><td>0.0</td><td>-0.415743</td><td>0.042411</td><td>0.333333</td><td>1.506243</td><td>&hellip;</td><td>-145.985401</td><td>-0.051086</td><td>0.121199</td><td>0.515137</td><td>1.111524</td><td>-0.639847</td><td>-0.116324</td><td>2081</td><td>-689.655172</td><td>-0.140552</td><td>0.156238</td><td>0.52662</td><td>1.110245</td><td>-0.683079</td><td>-0.130468</td><td>4677</td><td>-217.391304</td><td>-0.004729</td><td>0.22759</td><td>0.552407</td><td>1.108712</td><td>0.087605</td><td>0.062359</td><td>20255</td><td>714.285714</td><td>0.016459</td><td>0.304338</td><td>0.53059</td><td>1.107491</td><td>-0.053542</td><td>0.005589</td><td>44051</td><td>0.0</td><td>0.0</td><td>0.0</td><td>74.626866</td><td>74.626866</td></tr><tr><td>null</td><td>0.048667</td><td>0.106267</td><td>NaN</td><td>NaN</td><td>NaN</td><td>NaN</td><td>0</td><td>null</td><td>0.048667</td><td>0.106267</td><td>NaN</td><td>NaN</td><td>NaN</td><td>NaN</td><td>0</td><td>-10.582011</td><td>0.048667</td><td>0.106267</td><td>0.75</td><td>1.611914</td><td>1.0</td><td>0.615397</td><td>4</td><td>-7.057163</td><td>0.048667</td><td>0.106267</td><td>0.714286</td><td>1.612147</td><td>1.0</td><td>0.351377</td><td>21</td><td>49.680625</td><td>0.048667</td><td>0.106267</td><td>0.889908</td><td>1.28252</td><td>&hellip;</td><td>535.714286</td><td>0.059639</td><td>0.323869</td><td>0.586864</td><td>1.136448</td><td>0.689258</td><td>0.13793</td><td>2360</td><td>719.152157</td><td>0.0396</td><td>0.321096</td><td>0.543621</td><td>1.136433</td><td>0.495806</td><td>0.107385</td><td>4562</td><td>3208.955224</td><td>0.072183</td><td>0.469882</td><td>0.51994</td><td>1.132393</td><td>0.508911</td><td>-0.104064</td><td>19208</td><td>434.782609</td><td>0.022233</td><td>0.535733</td><td>0.517369</td><td>1.132946</td><td>0.084839</td><td>-0.061484</td><td>47873</td><td>null</td><td>-28.258566</td><td>-17.661604</td><td>-3.532321</td><td>21.193924</td></tr><tr><td>null</td><td>-0.186932</td><td>0.013348</td><td>NaN</td><td>NaN</td><td>NaN</td><td>NaN</td><td>0</td><td>null</td><td>-0.186932</td><td>0.013348</td><td>NaN</td><td>NaN</td><td>NaN</td><td>NaN</td><td>0</td><td>12.894907</td><td>-0.186932</td><td>0.013348</td><td>1.0</td><td>5.449916</td><td>1.0</td><td>1.0</td><td>4</td><td>-6.435006</td><td>-0.186932</td><td>0.013348</td><td>0.666667</td><td>1.810719</td><td>-1.0</td><td>0.027758</td><td>18</td><td>38.784745</td><td>-0.186932</td><td>0.013348</td><td>0.455696</td><td>1.543525</td><td>&hellip;</td><td>97.529259</td><td>-0.001252</td><td>0.090314</td><td>0.515968</td><td>1.237492</td><td>0.343199</td><td>0.203012</td><td>2599</td><td>-32.092426</td><td>-0.014367</td><td>0.096111</td><td>0.513296</td><td>1.233094</td><td>0.307177</td><td>0.120761</td><td>6468</td><td>-238.843495</td><td>-0.015166</td><td>0.110786</td><td>0.507287</td><td>1.225144</td><td>0.168123</td><td>-0.004508</td><td>27103</td><td>472.016183</td><td>0.012747</td><td>0.267996</td><td>0.506708</td><td>1.208105</td><td>0.033609</td><td>-0.000379</td><td>110614</td><td>-6.43915</td><td>-6.43915</td><td>-19.31745</td><td>-25.7566</td><td>-25.7566</td></tr><tr><td>null</td><td>0.119517</td><td>0.060031</td><td>NaN</td><td>NaN</td><td>NaN</td><td>NaN</td><td>0</td><td>null</td><td>0.119517</td><td>0.060031</td><td>NaN</td><td>NaN</td><td>NaN</td><td>NaN</td><td>0</td><td>null</td><td>0.119517</td><td>0.060031</td><td>NaN</td><td>NaN</td><td>NaN</td><td>NaN</td><td>0</td><td>0.0</td><td>0.119517</td><td>0.060031</td><td>1.0</td><td>2.662686</td><td>NaN</td><td>1.0</td><td>2</td><td>-124.031008</td><td>0.119517</td><td>0.060031</td><td>0.470588</td><td>1.226521</td><td>&hellip;</td><td>-46.875</td><td>-0.030969</td><td>0.112915</td><td>0.461149</td><td>1.219089</td><td>-0.104422</td><td>-0.01897</td><td>1776</td><td>-421.052632</td><td>-0.046424</td><td>0.220749</td><td>0.525995</td><td>1.211981</td><td>-0.132222</td><td>0.009412</td><td>6405</td><td>119.142176</td><td>0.005604</td><td>0.169849</td><td>0.493825</td><td>1.21809</td><td>0.157846</td><td>-0.014714</td><td>21783</td><td>208.333333</td><td>0.002431</td><td>0.295446</td><td>0.484844</td><td>1.20733</td><td>0.05833</td><td>-0.057217</td><td>69905</td><td>null</td><td>null</td><td>null</td><td>0.0</td><td>0.0</td></tr><tr><td>-9.727626</td><td>-0.994495</td><td>0.446734</td><td>0.666667</td><td>5.639665</td><td>-1.0</td><td>0.133763</td><td>3</td><td>0.0</td><td>-0.994495</td><td>0.446734</td><td>0.454545</td><td>2.157373</td><td>0.827957</td><td>-0.317078</td><td>11</td><td>9.746589</td><td>-0.994495</td><td>0.446734</td><td>0.555556</td><td>2.349307</td><td>0.827957</td><td>-0.131349</td><td>18</td><td>-9.727626</td><td>-0.994495</td><td>0.446734</td><td>0.470588</td><td>1.271411</td><td>0.436213</td><td>0.118312</td><td>85</td><td>-143.953935</td><td>-0.994495</td><td>0.446734</td><td>0.497326</td><td>1.187866</td><td>&hellip;</td><td>511.770727</td><td>0.026558</td><td>1.052353</td><td>0.494232</td><td>1.18072</td><td>-0.101212</td><td>-0.086393</td><td>17077</td><td>-437.616387</td><td>-0.038643</td><td>0.939499</td><td>0.497994</td><td>1.180122</td><td>-0.21352</td><td>-0.096043</td><td>33906</td><td>2570.379437</td><td>0.075361</td><td>0.912727</td><td>0.504836</td><td>1.177918</td><td>0.623608</td><td>0.040385</td><td>106496</td><td>4819.62482</td><td>0.06665</td><td>0.92686</td><td>0.494</td><td>1.172683</td><td>0.38871</td><td>0.037506</td><td>234731</td><td>59.642147</td><td>49.701789</td><td>39.761431</td><td>19.880716</td><td>39.761431</td></tr><tr><td>&hellip;</td><td>&hellip;</td><td>&hellip;</td><td>&hellip;</td><td>&hellip;</td><td>&hellip;</td><td>&hellip;</td><td>&hellip;</td><td>&hellip;</td><td>&hellip;</td><td>&hellip;</td><td>&hellip;</td><td>&hellip;</td><td>&hellip;</td><td>&hellip;</td><td>&hellip;</td><td>&hellip;</td><td>&hellip;</td><td>&hellip;</td><td>&hellip;</td><td>&hellip;</td><td>&hellip;</td><td>&hellip;</td><td>&hellip;</td><td>&hellip;</td><td>&hellip;</td><td>&hellip;</td><td>&hellip;</td><td>&hellip;</td><td>&hellip;</td><td>&hellip;</td><td>&hellip;</td><td>&hellip;</td><td>&hellip;</td><td>&hellip;</td><td>&hellip;</td><td>&hellip;</td><td>&hellip;</td><td>&hellip;</td><td>&hellip;</td><td>&hellip;</td><td>&hellip;</td><td>&hellip;</td><td>&hellip;</td><td>&hellip;</td><td>&hellip;</td><td>&hellip;</td><td>&hellip;</td><td>&hellip;</td><td>&hellip;</td><td>&hellip;</td><td>&hellip;</td><td>&hellip;</td><td>&hellip;</td><td>&hellip;</td><td>&hellip;</td><td>&hellip;</td><td>&hellip;</td><td>&hellip;</td><td>&hellip;</td><td>&hellip;</td><td>&hellip;</td><td>&hellip;</td><td>&hellip;</td><td>&hellip;</td><td>&hellip;</td><td>&hellip;</td><td>&hellip;</td><td>&hellip;</td><td>&hellip;</td><td>&hellip;</td><td>&hellip;</td><td>&hellip;</td><td>&hellip;</td><td>&hellip;</td></tr><tr><td>0.0</td><td>-0.449569</td><td>0.034546</td><td>1.0</td><td>inf</td><td>NaN</td><td>1.0</td><td>1</td><td>1.259604</td><td>-0.449569</td><td>0.034546</td><td>1.0</td><td>2.705437</td><td>NaN</td><td>1.0</td><td>2</td><td>-10.065425</td><td>-0.449569</td><td>0.034546</td><td>0.666667</td><td>2.008287</td><td>NaN</td><td>0.859381</td><td>6</td><td>-26.378596</td><td>-0.449569</td><td>0.034546</td><td>0.631579</td><td>1.745072</td><td>NaN</td><td>0.573169</td><td>19</td><td>-45.135406</td><td>-0.449569</td><td>0.034546</td><td>0.711111</td><td>1.693431</td><td>&hellip;</td><td>37.926675</td><td>-0.040179</td><td>0.088148</td><td>0.607284</td><td>1.228639</td><td>-0.21853</td><td>-0.057039</td><td>2526</td><td>-143.992056</td><td>-0.029907</td><td>0.137328</td><td>0.572706</td><td>1.216532</td><td>-0.742139</td><td>-0.121674</td><td>5481</td><td>-94.810379</td><td>-0.001407</td><td>0.192634</td><td>0.558837</td><td>1.208952</td><td>0.00379</td><td>0.085894</td><td>21636</td><td>-176.914512</td><td>0.00012</td><td>0.323988</td><td>0.539227</td><td>1.195903</td><td>0.100108</td><td>0.014819</td><td>61985</td><td>27.890467</td><td>39.300203</td><td>40.567951</td><td>20.283976</td><td>20.283976</td></tr><tr><td>-2.430134</td><td>-0.221789</td><td>0.11941</td><td>0.5</td><td>1.69226</td><td>NaN</td><td>-0.927962</td><td>6</td><td>13.793103</td><td>-0.221789</td><td>0.11941</td><td>0.538462</td><td>1.831671</td><td>NaN</td><td>-0.698838</td><td>13</td><td>-2.835041</td><td>-0.221789</td><td>0.11941</td><td>0.444444</td><td>1.803978</td><td>-1.0</td><td>-0.732928</td><td>18</td><td>-23.441921</td><td>-0.221789</td><td>0.11941</td><td>0.404762</td><td>1.688028</td><td>-0.557252</td><td>-0.303073</td><td>42</td><td>-102.249489</td><td>-0.221789</td><td>0.11941</td><td>0.404624</td><td>1.502434</td><td>&hellip;</td><td>-159.856488</td><td>-0.086146</td><td>0.19989</td><td>0.504724</td><td>1.288794</td><td>-0.232668</td><td>-0.039361</td><td>8997</td><td>-272.506946</td><td>-0.061403</td><td>0.29645</td><td>0.516912</td><td>1.282274</td><td>-0.714723</td><td>-0.010727</td><td>21996</td><td>770.573348</td><td>0.028743</td><td>0.289556</td><td>0.5243</td><td>1.276596</td><td>0.098057</td><td>-0.011753</td><td>70267</td><td>-373.981203</td><td>0.003991</td><td>0.431632</td><td>0.519724</td><td>1.25174</td><td>0.004066</td><td>-0.02556</td><td>195958</td><td>16.495265</td><td>24.84472</td><td>29.121271</td><td>16.087975</td><td>12.626005</td></tr><tr><td>-18.587361</td><td>-0.1878</td><td>0.083144</td><td>0.8</td><td>1.132068</td><td>-1.0</td><td>0.263105</td><td>5</td><td>-18.587361</td><td>-0.1878</td><td>0.083144</td><td>0.8</td><td>1.132068</td><td>-1.0</td><td>0.263105</td><td>5</td><td>-18.587361</td><td>-0.1878</td><td>0.083144</td><td>0.6</td><td>1.14305</td><td>-0.99138</td><td>0.263398</td><td>10</td><td>-9.302326</td><td>-0.1878</td><td>0.083144</td><td>0.535714</td><td>1.154052</td><td>-0.991339</td><td>0.246293</td><td>28</td><td>-73.937153</td><td>-0.1878</td><td>0.083144</td><td>0.454955</td><td>1.141368</td><td>&hellip;</td><td>-367.713004</td><td>-0.087232</td><td>0.156163</td><td>0.51197</td><td>1.116838</td><td>-0.337927</td><td>-0.163254</td><td>5639</td><td>-709.342561</td><td>-0.083163</td><td>0.17</td><td>0.510999</td><td>1.119012</td><td>-0.233393</td><td>-0.062249</td><td>15411</td><td>-240.799637</td><td>0.010606</td><td>0.149555</td><td>0.517028</td><td>1.120587</td><td>-0.113449</td><td>-0.023197</td><td>56670</td><td>-376.344086</td><td>0.004179</td><td>0.207334</td><td>0.515066</td><td>1.116578</td><td>-0.176152</td><td>-0.020753</td><td>152961</td><td>null</td><td>18.656716</td><td>18.656716</td><td>27.985075</td><td>-13.992537</td></tr><tr><td>-2.293052</td><td>-0.078582</td><td>0.128551</td><td>0.363636</td><td>1.643596</td><td>-1.0</td><td>-0.830974</td><td>11</td><td>-6.876003</td><td>-0.078582</td><td>0.128551</td><td>0.478261</td><td>1.286962</td><td>-1.0</td><td>-0.554852</td><td>23</td><td>-22.883295</td><td>-0.078582</td><td>0.128551</td><td>0.548387</td><td>1.268597</td><td>-0.932203</td><td>0.485758</td><td>62</td><td>-4.585053</td><td>-0.078582</td><td>0.128551</td><td>0.541284</td><td>1.275781</td><td>0.527259</td><td>0.219869</td><td>218</td><td>0.0</td><td>-0.078582</td><td>0.128551</td><td>0.587763</td><td>1.244725</td><td>&hellip;</td><td>-158.013544</td><td>-0.02106</td><td>0.251958</td><td>0.577892</td><td>1.202859</td><td>-0.428156</td><td>0.002377</td><td>45114</td><td>-657.810156</td><td>-0.045343</td><td>0.372448</td><td>0.596214</td><td>1.201884</td><td>-0.354501</td><td>-0.037216</td><td>121069</td><td>-961.85738</td><td>-0.009696</td><td>0.441148</td><td>0.55793</td><td>1.208004</td><td>-0.326857</td><td>-0.059731</td><td>480214</td><td>2652.350551</td><td>0.037624</td><td>0.896139</td><td>0.533061</td><td>1.18368</td><td>-0.182677</td><td>-0.034732</td><td>1659882</td><td>11.49954</td><td>18.399264</td><td>25.298988</td><td>13.799448</td><td>29.898804</td></tr><tr><td>0.0</td><td>-0.289531</td><td>0.048124</td><td>0.8</td><td>1.569173</td><td>NaN</td><td>-0.466938</td><td>5</td><td>18.382353</td><td>-0.289531</td><td>0.048124</td><td>0.875</td><td>1.720607</td><td>NaN</td><td>-0.385659</td><td>8</td><td>6.119951</td><td>-0.289531</td><td>0.048124</td><td>0.714286</td><td>1.493992</td><td>NaN</td><td>-0.707274</td><td>14</td><td>-12.217471</td><td>-0.289531</td><td>0.048124</td><td>0.611111</td><td>1.379188</td><td>1.0</td><td>-0.332892</td><td>54</td><td>-42.630938</td><td>-0.289531</td><td>0.048124</td><td>0.641791</td><td>1.28854</td><td>&hellip;</td><td>-72.859745</td><td>-0.04376</td><td>0.200279</td><td>0.498264</td><td>1.138604</td><td>-0.449394</td><td>-0.178858</td><td>8066</td><td>-499.709471</td><td>-0.054691</td><td>0.217482</td><td>0.520892</td><td>1.138278</td><td>-0.644081</td><td>-0.088338</td><td>17806</td><td>-353.982301</td><td>-0.009893</td><td>0.215971</td><td>0.497512</td><td>1.138724</td><td>-0.229345</td><td>-0.054479</td><td>68533</td><td>1830.680174</td><td>0.028642</td><td>0.40874</td><td>0.512539</td><td>1.130066</td><td>-0.172484</td><td>0.005031</td><td>248073</td><td>18.472906</td><td>18.472906</td><td>30.788177</td><td>12.315271</td><td>0.0</td></tr></tbody></table></div>"
      ],
      "text/plain": [
       "shape: (271, 101)\n",
       "┌───────────┬───────────┬───────────┬───────────┬───┬───────────┬───────────┬───────────┬──────────┐\n",
       "│ asset_ret ┆ asset_ret ┆ quote_abs ┆ share_of_ ┆ … ┆ target_re ┆ target_re ┆ target_re ┆ target_r │\n",
       "│ urn@1MIN  ┆ urn_zscor ┆ _zscore@1 ┆ long_trad ┆   ┆ turn@2MIN ┆ turn@3MIN ┆ turn@4MIN ┆ eturn@5M │\n",
       "│ ---       ┆ e@1MIN    ┆ MIN       ┆ es@1MIN   ┆   ┆ ---       ┆ ---       ┆ ---       ┆ IN       │\n",
       "│ f64       ┆ ---       ┆ ---       ┆ ---       ┆   ┆ f64       ┆ f64       ┆ f64       ┆ ---      │\n",
       "│           ┆ f64       ┆ f64       ┆ f64       ┆   ┆           ┆           ┆           ┆ f64      │\n",
       "╞═══════════╪═══════════╪═══════════╪═══════════╪═══╪═══════════╪═══════════╪═══════════╪══════════╡\n",
       "│ -73.52941 ┆ -0.415743 ┆ 0.042411  ┆ 0.0       ┆ … ┆ 0.0       ┆ 0.0       ┆ 74.626866 ┆ 74.62686 │\n",
       "│ 2         ┆           ┆           ┆           ┆   ┆           ┆           ┆           ┆ 6        │\n",
       "│ null      ┆ 0.048667  ┆ 0.106267  ┆ NaN       ┆ … ┆ -28.25856 ┆ -17.66160 ┆ -3.532321 ┆ 21.19392 │\n",
       "│           ┆           ┆           ┆           ┆   ┆ 6         ┆ 4         ┆           ┆ 4        │\n",
       "│ null      ┆ -0.186932 ┆ 0.013348  ┆ NaN       ┆ … ┆ -6.43915  ┆ -19.31745 ┆ -25.7566  ┆ -25.7566 │\n",
       "│ null      ┆ 0.119517  ┆ 0.060031  ┆ NaN       ┆ … ┆ null      ┆ null      ┆ 0.0       ┆ 0.0      │\n",
       "│ -9.727626 ┆ -0.994495 ┆ 0.446734  ┆ 0.666667  ┆ … ┆ 49.701789 ┆ 39.761431 ┆ 19.880716 ┆ 39.76143 │\n",
       "│           ┆           ┆           ┆           ┆   ┆           ┆           ┆           ┆ 1        │\n",
       "│ …         ┆ …         ┆ …         ┆ …         ┆ … ┆ …         ┆ …         ┆ …         ┆ …        │\n",
       "│ 0.0       ┆ -0.449569 ┆ 0.034546  ┆ 1.0       ┆ … ┆ 39.300203 ┆ 40.567951 ┆ 20.283976 ┆ 20.28397 │\n",
       "│           ┆           ┆           ┆           ┆   ┆           ┆           ┆           ┆ 6        │\n",
       "│ -2.430134 ┆ -0.221789 ┆ 0.11941   ┆ 0.5       ┆ … ┆ 24.84472  ┆ 29.121271 ┆ 16.087975 ┆ 12.62600 │\n",
       "│           ┆           ┆           ┆           ┆   ┆           ┆           ┆           ┆ 5        │\n",
       "│ -18.58736 ┆ -0.1878   ┆ 0.083144  ┆ 0.8       ┆ … ┆ 18.656716 ┆ 18.656716 ┆ 27.985075 ┆ -13.9925 │\n",
       "│ 1         ┆           ┆           ┆           ┆   ┆           ┆           ┆           ┆ 37       │\n",
       "│ -2.293052 ┆ -0.078582 ┆ 0.128551  ┆ 0.363636  ┆ … ┆ 18.399264 ┆ 25.298988 ┆ 13.799448 ┆ 29.89880 │\n",
       "│           ┆           ┆           ┆           ┆   ┆           ┆           ┆           ┆ 4        │\n",
       "│ 0.0       ┆ -0.289531 ┆ 0.048124  ┆ 0.8       ┆ … ┆ 18.472906 ┆ 30.788177 ┆ 12.315271 ┆ 0.0      │\n",
       "└───────────┴───────────┴───────────┴───────────┴───┴───────────┴───────────┴───────────┴──────────┘"
      ]
     },
     "execution_count": 7,
     "metadata": {},
     "output_type": "execute_result"
    }
   ],
   "source": [
    "df"
   ]
  }
 ],
 "metadata": {
  "kernelspec": {
   "display_name": "Python 3 (ipykernel)",
   "language": "python",
   "name": "python3"
  },
  "language_info": {
   "codemirror_mode": {
    "name": "ipython",
    "version": 3
   },
   "file_extension": ".py",
   "mimetype": "text/x-python",
   "name": "python",
   "nbconvert_exporter": "python",
   "pygments_lexer": "ipython3",
   "version": "3.12.4"
  }
 },
 "nbformat": 4,
 "nbformat_minor": 5
}
