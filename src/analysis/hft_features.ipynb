{
 "cells": [
  {
   "cell_type": "code",
   "execution_count": 1,
   "id": "initial_id",
   "metadata": {
    "jupyter": {
     "is_executing": true
    }
   },
   "outputs": [],
   "source": [
    "from typing import *\n",
    "from datetime import datetime, timedelta, date\n",
    "from core.time_utils import Bounds\n",
    "from tqdm import tqdm\n",
    "\n",
    "import pandas as pd\n",
    "import seaborn as sns\n",
    "import matplotlib.pyplot as plt\n",
    "import warnings\n",
    "import numpy as np\n",
    "import polars as pl\n",
    "\n",
    "warnings.simplefilter(\"ignore\")"
   ]
  },
  {
   "cell_type": "markdown",
   "id": "1c8a1f96-0bc0-4eba-b5bf-9167b2210f28",
   "metadata": {},
   "source": [
    "<p>In this notebook we will validate that everything was calculated correctly</p>"
   ]
  },
  {
   "cell_type": "markdown",
   "id": "06609931-fdc5-4fa9-9466-36db46130423",
   "metadata": {},
   "source": [
    "<h4>Fetch data from Hive structure</h4>"
   ]
  },
  {
   "cell_type": "code",
   "execution_count": 2,
   "id": "2e819ae4-884b-4fd0-89ba-372791225119",
   "metadata": {},
   "outputs": [],
   "source": [
    "bounds: Bounds = Bounds.for_days(date(2025, 1, 1), date(2025, 1, 2))\n",
    "# Expand bounds such that start and end of the daily interval will not have missing values\n",
    "expanded_bounds: Bounds = bounds.expand_bounds(lb_timedelta=timedelta(minutes=5), rb_timedelta=timedelta(minutes=5))\n",
    "\n",
    "df_ticks = (\n",
    "    pl.scan_parquet(r\"D:\\data\\transformed\\trades\")\n",
    "    .filter(\n",
    "        (pl.col(\"date\").is_between(expanded_bounds.day0, expanded_bounds.day1)) & \n",
    "        (pl.col(\"symbol\") == \"BTC-USDT\") &\n",
    "        (pl.col(\"trade_time\").is_between(expanded_bounds.start_inclusive, expanded_bounds.end_exclusive))\n",
    "    )\n",
    "    .collect()\n",
    ")"
   ]
  },
  {
   "cell_type": "code",
   "execution_count": 3,
   "id": "43c7337e-d8e8-45dc-959f-133c06daf5bb",
   "metadata": {},
   "outputs": [
    {
     "data": {
      "text/html": [
       "<div><style>\n",
       ".dataframe > thead > tr,\n",
       ".dataframe > tbody > tr {\n",
       "  text-align: right;\n",
       "  white-space: pre-wrap;\n",
       "}\n",
       "</style>\n",
       "<small>shape: (1_528_553, 6)</small><table border=\"1\" class=\"dataframe\"><thead><tr><th>price</th><th>quantity</th><th>trade_time</th><th>is_buyer_maker</th><th>date</th><th>symbol</th></tr><tr><td>f64</td><td>f64</td><td>datetime[ns]</td><td>bool</td><td>date</td><td>str</td></tr></thead><tbody><tr><td>93646.97</td><td>0.0007</td><td>2024-12-31 23:55:00.041</td><td>false</td><td>2024-12-31</td><td>&quot;BTC-USDT&quot;</td></tr><tr><td>93646.97</td><td>0.00071</td><td>2024-12-31 23:55:00.410</td><td>false</td><td>2024-12-31</td><td>&quot;BTC-USDT&quot;</td></tr><tr><td>93646.96</td><td>0.00342</td><td>2024-12-31 23:55:00.975</td><td>true</td><td>2024-12-31</td><td>&quot;BTC-USDT&quot;</td></tr><tr><td>93646.97</td><td>0.00015</td><td>2024-12-31 23:55:01.336</td><td>false</td><td>2024-12-31</td><td>&quot;BTC-USDT&quot;</td></tr><tr><td>93646.97</td><td>0.01067</td><td>2024-12-31 23:55:02.135</td><td>false</td><td>2024-12-31</td><td>&quot;BTC-USDT&quot;</td></tr><tr><td>&hellip;</td><td>&hellip;</td><td>&hellip;</td><td>&hellip;</td><td>&hellip;</td><td>&hellip;</td></tr><tr><td>94473.64</td><td>0.00006</td><td>2025-01-02 00:04:59.909962</td><td>true</td><td>2025-01-02</td><td>&quot;BTC-USDT&quot;</td></tr><tr><td>94473.64</td><td>0.00006</td><td>2025-01-02 00:04:59.909962</td><td>true</td><td>2025-01-02</td><td>&quot;BTC-USDT&quot;</td></tr><tr><td>94473.3</td><td>0.00006</td><td>2025-01-02 00:04:59.909962</td><td>true</td><td>2025-01-02</td><td>&quot;BTC-USDT&quot;</td></tr><tr><td>94473.3</td><td>0.00006</td><td>2025-01-02 00:04:59.909962</td><td>true</td><td>2025-01-02</td><td>&quot;BTC-USDT&quot;</td></tr><tr><td>94472.98</td><td>0.0001</td><td>2025-01-02 00:04:59.985426</td><td>false</td><td>2025-01-02</td><td>&quot;BTC-USDT&quot;</td></tr></tbody></table></div>"
      ],
      "text/plain": [
       "shape: (1_528_553, 6)\n",
       "┌──────────┬──────────┬────────────────────────────┬────────────────┬────────────┬──────────┐\n",
       "│ price    ┆ quantity ┆ trade_time                 ┆ is_buyer_maker ┆ date       ┆ symbol   │\n",
       "│ ---      ┆ ---      ┆ ---                        ┆ ---            ┆ ---        ┆ ---      │\n",
       "│ f64      ┆ f64      ┆ datetime[ns]               ┆ bool           ┆ date       ┆ str      │\n",
       "╞══════════╪══════════╪════════════════════════════╪════════════════╪════════════╪══════════╡\n",
       "│ 93646.97 ┆ 0.0007   ┆ 2024-12-31 23:55:00.041    ┆ false          ┆ 2024-12-31 ┆ BTC-USDT │\n",
       "│ 93646.97 ┆ 0.00071  ┆ 2024-12-31 23:55:00.410    ┆ false          ┆ 2024-12-31 ┆ BTC-USDT │\n",
       "│ 93646.96 ┆ 0.00342  ┆ 2024-12-31 23:55:00.975    ┆ true           ┆ 2024-12-31 ┆ BTC-USDT │\n",
       "│ 93646.97 ┆ 0.00015  ┆ 2024-12-31 23:55:01.336    ┆ false          ┆ 2024-12-31 ┆ BTC-USDT │\n",
       "│ 93646.97 ┆ 0.01067  ┆ 2024-12-31 23:55:02.135    ┆ false          ┆ 2024-12-31 ┆ BTC-USDT │\n",
       "│ …        ┆ …        ┆ …                          ┆ …              ┆ …          ┆ …        │\n",
       "│ 94473.64 ┆ 0.00006  ┆ 2025-01-02 00:04:59.909962 ┆ true           ┆ 2025-01-02 ┆ BTC-USDT │\n",
       "│ 94473.64 ┆ 0.00006  ┆ 2025-01-02 00:04:59.909962 ┆ true           ┆ 2025-01-02 ┆ BTC-USDT │\n",
       "│ 94473.3  ┆ 0.00006  ┆ 2025-01-02 00:04:59.909962 ┆ true           ┆ 2025-01-02 ┆ BTC-USDT │\n",
       "│ 94473.3  ┆ 0.00006  ┆ 2025-01-02 00:04:59.909962 ┆ true           ┆ 2025-01-02 ┆ BTC-USDT │\n",
       "│ 94472.98 ┆ 0.0001   ┆ 2025-01-02 00:04:59.985426 ┆ false          ┆ 2025-01-02 ┆ BTC-USDT │\n",
       "└──────────┴──────────┴────────────────────────────┴────────────────┴────────────┴──────────┘"
      ]
     },
     "execution_count": 3,
     "metadata": {},
     "output_type": "execute_result"
    }
   ],
   "source": [
    "df_ticks"
   ]
  },
  {
   "cell_type": "markdown",
   "id": "7daa1a3d-bb92-46bd-afb6-942058f4c7a1",
   "metadata": {},
   "source": [
    "<h4>Make sure data is sorted by trade_time</h4>"
   ]
  },
  {
   "cell_type": "code",
   "execution_count": null,
   "id": "3674319e-29d2-4fb2-affd-176c9741e7a4",
   "metadata": {},
   "outputs": [],
   "source": [
    "df_ticks = df_ticks.sort(by=\"trade_time\", descending=False)\n",
    "assert df_ticks[\"trade_time\"].is_sorted()"
   ]
  },
  {
   "cell_type": "code",
   "execution_count": null,
   "id": "ff87df69-f1fe-49f8-a52b-584cabd674c9",
   "metadata": {},
   "outputs": [],
   "source": [
    "df_ticks = df_ticks.with_columns(\n",
    "    quote_abs=pl.col(\"price\") * pl.col(\"quantity\"),\n",
    "    side=1 - 2 * pl.col(\"is_buyer_maker\")  # -1 if SELL, 1 if BUY\n",
    ")\n",
    "df_ticks = df_ticks.with_columns(\n",
    "    quote_sign=pl.col(\"quote_abs\") * pl.col(\"side\"),\n",
    "    quantity_sign=pl.col(\"quantity\") * pl.col(\"side\")\n",
    ")"
   ]
  },
  {
   "cell_type": "markdown",
   "id": "277dc468-9c47-46d4-85bf-b211fa5caba3",
   "metadata": {},
   "source": [
    "<h4>Aggregate ticks into trades on trade_time</h4>"
   ]
  },
  {
   "cell_type": "code",
   "execution_count": null,
   "id": "c22c44d6-6802-4cb3-b989-1d92de5e0f95",
   "metadata": {},
   "outputs": [],
   "source": [
    "df_ticks = df_ticks.sort(by=\"trade_time\", descending=False)\n",
    "\n",
    "df_trades: pl.DataFrame = (\n",
    "    df_ticks\n",
    "    .group_by(\"trade_time\", maintain_order=True)\n",
    "    .agg(\n",
    "        price_first=pl.col(\"price\").first(),  # if someone placed a trade with price impact, then price_first\n",
    "        price_last=pl.col(\"price\").last(),  # and price_last will differ\n",
    "        # Amount spent in quote asset for the trade\n",
    "        quote_abs=pl.col(\"quote_abs\").sum(),\n",
    "        quote_sign=pl.col(\"quote_sign\").sum(),\n",
    "        quantity_sign=pl.col(\"quantity_sign\").sum(),\n",
    "        # Amount of base asset transacted\n",
    "        quantity_abs=pl.col(\"quantity\").sum(),\n",
    "        num_ticks=pl.col(\"price\").count(),  # number of ticks for each trade\n",
    "    )\n",
    ")\n",
    "# Create boolean indicating if the trade was long or short\n",
    "df_trades = df_trades.with_columns(\n",
    "    (pl.col(\"quote_sign\") >= 0).alias(\"is_long\")\n",
    ")\n",
    "\n",
    "df_trades"
   ]
  },
  {
   "cell_type": "code",
   "execution_count": null,
   "id": "51f13b47-5eea-4cd9-9168-138349cb4c55",
   "metadata": {},
   "outputs": [],
   "source": [
    "# compute slippage\n",
    "df_trades = df_trades.with_columns(\n",
    "    quote_slippage_abs=(pl.col(\"quote_abs\") - pl.col(\"price_first\") * pl.col(\"quantity_abs\")).abs()\n",
    ")\n",
    "df_trades = df_trades.with_columns(\n",
    "    quote_slippage_sign=pl.col(\"quote_slippage_abs\") * pl.col(\"quantity_sign\").sign()\n",
    ")"
   ]
  },
  {
   "cell_type": "markdown",
   "id": "f1c71ec4-79e4-489d-b601-59fa39c7329d",
   "metadata": {},
   "source": [
    "<h4>Add lags of time and price will help when resampling</h4>"
   ]
  },
  {
   "cell_type": "code",
   "execution_count": null,
   "id": "ee06e1c1-2e03-407a-9daa-fb6c466f7c29",
   "metadata": {},
   "outputs": [],
   "source": [
    "df_trades = df_trades.with_columns(\n",
    "    price_last_lag=pl.col(\"price_last\").shift(1),\n",
    "    trade_time_lag=pl.col(\"trade_time\").shift(1),\n",
    "    price_first_neg_lag=pl.col(\"price_first\").shift(-1),\n",
    "    trade_time_neg_lag=pl.col(\"trade_time\").shift(-1)\n",
    ")"
   ]
  },
  {
   "cell_type": "code",
   "execution_count": null,
   "id": "7ced2c7b-2301-4aa6-8faf-1cdc23402954",
   "metadata": {},
   "outputs": [],
   "source": [
    "sampled_features: pl.DataFrame = (\n",
    "    df_trades\n",
    "    .group_by_dynamic(\n",
    "        index_column=\"trade_time\", \n",
    "        every=timedelta(milliseconds=500),\n",
    "        period=timedelta(seconds=1),\n",
    "        closed=\"right\",\n",
    "        label=\"right\",\n",
    "        include_boundaries=True\n",
    "    )\n",
    "    .agg(\n",
    "        asset_return=(pl.col(\"price_last\").last() / pl.col(\"price_first\").first() - 1) * 1e4,\n",
    "        asset_hold_time=(pl.col(\"trade_time\").last() - pl.col(\"trade_time\").first()).dt.total_nanoseconds() / 1e9,\n",
    "        flow_imbalance=pl.col(\"quote_sign\").sum() / pl.col(\"quote_abs\").sum(),\n",
    "        slippage_imbalance=pl.col(\"quote_slippage_sign\").sum() / pl.col(\"quote_slippage_abs\").sum(),\n",
    "        powerlaw_alpha= 1 + pl.len() / (pl.col(\"quote_abs\") / pl.col(\"quote_abs\").min()).log().sum(),\n",
    "        share_of_longs=pl.col(\"is_long\").sum() / pl.len(),\n",
    "        num_agg_trades=pl.len()\n",
    "    )\n",
    "    .filter(\n",
    "        pl.col(\"trade_time\").is_between(bounds.start_inclusive, bounds.end_exclusive)\n",
    "    )\n",
    ")"
   ]
  },
  {
   "cell_type": "code",
   "execution_count": null,
   "id": "ff465a5b-ba1b-4b04-8c01-e6dced13fd74",
   "metadata": {},
   "outputs": [],
   "source": [
    "sampled_features.with_columns(\n",
    "    asset_return_adj=pl.when(pl.col(\"asset_hold_time\") > 0)\n",
    "    .then(pl.col(\"asset_return\") * timedelta(seconds=1).total_seconds() / pl.col(\"asset_hold_time\"))\n",
    "    .otherwise(0)\n",
    ")"
   ]
  },
  {
   "cell_type": "code",
   "execution_count": null,
   "id": "80f95e4d-8f3f-4d92-bd2c-556951e36662",
   "metadata": {},
   "outputs": [],
   "source": [
    "asset_return = sampled_features[\"asset_return\"].to_numpy()\n",
    "hold_time_sec = sampled_features[\"asset_hold_time\"].to_numpy()\n",
    "\n",
    "asset_return * timedelta(seconds=1).total_seconds() / hold_time_sec"
   ]
  },
  {
   "cell_type": "code",
   "execution_count": null,
   "id": "c5ea99d5-9076-4a8b-8ffb-553a8f488d83",
   "metadata": {},
   "outputs": [],
   "source": [
    "index: pd.DatetimeIndex = pd.date_range(\n",
    "    bounds.start_inclusive, bounds.end_exclusive, freq=timedelta(milliseconds=500)\n",
    ")\n",
    "df_index: pl.DataFrame = pl.DataFrame({\"sampled_time\": index})\n",
    "\n",
    "# left join to desired time index to make sure that dimensions are correct\n",
    "df_features: pl.DataFrame = df_index.join(\n",
    "    sampled_features, left_on=\"sampled_time\", right_on=\"trade_time\", how=\"left\"\n",
    ")\n",
    "df_features = df_features.with_columns(\n",
    "    window=pl.lit(\"500MS\")\n",
    ")"
   ]
  },
  {
   "cell_type": "code",
   "execution_count": null,
   "id": "9dae541e-143b-4478-87bd-8fdcc303480e",
   "metadata": {},
   "outputs": [],
   "source": [
    "cols= [\n",
    "    \"asset_return\",\n",
    "    \"asset_hold_time\",\n",
    "    \"flow_imbalance\",\n",
    "    \"slippage_imbalance\",\n",
    "    \"powerlaw_alpha\",\n",
    "    \"share_of_longs\"\n",
    "]"
   ]
  },
  {
   "cell_type": "markdown",
   "id": "27bcd689-a231-4d6c-b411-0afdea2f84ea",
   "metadata": {},
   "source": [
    "<h4>Validate that everything is computed correctly</h4>"
   ]
  },
  {
   "cell_type": "code",
   "execution_count": null,
   "id": "e3790d64-7c73-49bb-bd19-daa89fb5ac29",
   "metadata": {},
   "outputs": [],
   "source": [
    "from core.paths import FEATURE_DIR\n",
    "from core.time_utils import Bounds\n",
    "from datetime import date\n",
    "from feature_writer.utils import to_wide_format\n",
    "from core.currency_pair import CurrencyPair\n",
    "\n",
    "\n",
    "import polars as pl\n",
    "\n",
    "\n",
    "hive: pl.LazyFrame = pl.scan_parquet(FEATURE_DIR)\n",
    "bounds: Bounds = Bounds.for_days(\n",
    "    date(2024, 1, 1), date(2024, 1, 4)\n",
    ")\n",
    "\n",
    "data = hive.filter(\n",
    "    (pl.col(\"currency_pair\") == CurrencyPair.from_string(\"BTC-USDT\").name) &\n",
    "    (pl.col(\"date\").is_between(bounds.day0, bounds.day1))\n",
    ").collect()"
   ]
  },
  {
   "cell_type": "code",
   "execution_count": null,
   "id": "eee21bc1-ea0d-4db2-be3c-878374819a9c",
   "metadata": {},
   "outputs": [],
   "source": [
    "to_wide_format(data)"
   ]
  }
 ],
 "metadata": {
  "kernelspec": {
   "display_name": "Python 3 (ipykernel)",
   "language": "python",
   "name": "python3"
  },
  "language_info": {
   "codemirror_mode": {
    "name": "ipython",
    "version": 3
   },
   "file_extension": ".py",
   "mimetype": "text/x-python",
   "name": "python",
   "nbconvert_exporter": "python",
   "pygments_lexer": "ipython3",
   "version": "3.12.4"
  }
 },
 "nbformat": 4,
 "nbformat_minor": 5
}
