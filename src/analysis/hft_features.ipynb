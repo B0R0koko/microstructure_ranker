{
 "cells": [
  {
   "cell_type": "code",
   "id": "initial_id",
   "metadata": {
    "ExecuteTime": {
     "end_time": "2025-05-16T18:53:11.131499Z",
     "start_time": "2025-05-16T18:53:11.035981Z"
    }
   },
   "source": [
    "from typing import *\n",
    "from datetime import datetime, timedelta, date\n",
    "from core.time_utils import Bounds\n",
    "from tqdm import tqdm\n",
    "\n",
    "import pandas as pd\n",
    "import seaborn as sns\n",
    "import matplotlib.pyplot as plt\n",
    "import warnings\n",
    "import numpy as np\n",
    "import polars as pl\n",
    "\n",
    "warnings.simplefilter(\"ignore\")"
   ],
   "outputs": [],
   "execution_count": 1
  },
  {
   "cell_type": "markdown",
   "id": "1c8a1f96-0bc0-4eba-b5bf-9167b2210f28",
   "metadata": {},
   "source": [
    "<p>In this notebook we will validate that everything was calculated correctly</p>"
   ]
  },
  {
   "cell_type": "markdown",
   "id": "06609931-fdc5-4fa9-9466-36db46130423",
   "metadata": {},
   "source": [
    "<h4>Fetch data from Hive structure</h4>"
   ]
  },
  {
   "cell_type": "code",
   "execution_count": null,
   "id": "2e819ae4-884b-4fd0-89ba-372791225119",
   "metadata": {},
   "outputs": [],
   "source": [
    "bounds: Bounds = Bounds.for_days(date(2025, 1, 1), date(2025, 1, 2))\n",
    "# Expand bounds such that start and end of the daily interval will not have missing values\n",
    "expanded_bounds: Bounds = bounds.expand_bounds(lb_timedelta=timedelta(minutes=5), rb_timedelta=timedelta(minutes=5))\n",
    "\n",
    "df_ticks = (\n",
    "    pl.scan_parquet(r\"D:\\data\\transformed\\trades\")\n",
    "    .filter(\n",
    "        (pl.col(\"date\").is_between(expanded_bounds.day0, expanded_bounds.day1)) & \n",
    "        (pl.col(\"symbol\") == \"BTC-USDT\") &\n",
    "        (pl.col(\"trade_time\").is_between(expanded_bounds.start_inclusive, expanded_bounds.end_exclusive))\n",
    "    )\n",
    "    .collect()\n",
    ")"
   ]
  },
  {
   "cell_type": "code",
   "execution_count": null,
   "id": "12eceb0f-9d25-4016-95d5-512d122a35ef",
   "metadata": {},
   "outputs": [],
   "source": [
    "print(expanded_bounds)"
   ]
  },
  {
   "cell_type": "markdown",
   "id": "7daa1a3d-bb92-46bd-afb6-942058f4c7a1",
   "metadata": {},
   "source": [
    "<h4>Make sure data is sorted by trade_time</h4>"
   ]
  },
  {
   "cell_type": "code",
   "execution_count": null,
   "id": "3674319e-29d2-4fb2-affd-176c9741e7a4",
   "metadata": {},
   "outputs": [],
   "source": [
    "df_ticks = df_ticks.sort(by=\"trade_time\", descending=False)\n",
    "assert df_ticks[\"trade_time\"].is_sorted()"
   ]
  },
  {
   "cell_type": "code",
   "execution_count": null,
   "id": "ff87df69-f1fe-49f8-a52b-584cabd674c9",
   "metadata": {},
   "outputs": [],
   "source": [
    "df_ticks = df_ticks.with_columns(\n",
    "    quote_abs=pl.col(\"price\") * pl.col(\"quantity\"),\n",
    "    side=1 - 2 * pl.col(\"is_buyer_maker\")  # -1 if SELL, 1 if BUY\n",
    ")\n",
    "df_ticks = df_ticks.with_columns(\n",
    "    quote_sign=pl.col(\"quote_abs\") * pl.col(\"side\"),\n",
    "    quantity_sign=pl.col(\"quantity\") * pl.col(\"side\")\n",
    ")"
   ]
  },
  {
   "cell_type": "markdown",
   "id": "277dc468-9c47-46d4-85bf-b211fa5caba3",
   "metadata": {},
   "source": [
    "<h4>Aggregate ticks into trades on trade_time</h4>"
   ]
  },
  {
   "cell_type": "code",
   "execution_count": null,
   "id": "c22c44d6-6802-4cb3-b989-1d92de5e0f95",
   "metadata": {},
   "outputs": [],
   "source": [
    "df_ticks = df_ticks.sort(by=\"trade_time\", descending=False)\n",
    "\n",
    "df_trades: pl.DataFrame = (\n",
    "    df_ticks\n",
    "    .group_by(\"trade_time\", maintain_order=True)\n",
    "    .agg(\n",
    "        price_first=pl.col(\"price\").first(),  # if someone placed a trade with price impact, then price_first\n",
    "        price_last=pl.col(\"price\").last(),  # and price_last will differ\n",
    "        # Amount spent in quote asset for the trade\n",
    "        quote_abs=pl.col(\"quote_abs\").sum(),\n",
    "        quote_sign=pl.col(\"quote_sign\").sum(),\n",
    "        quantity_sign=pl.col(\"quantity_sign\").sum(),\n",
    "        # Amount of base asset transacted\n",
    "        quantity_abs=pl.col(\"quantity\").sum(),\n",
    "        num_ticks=pl.col(\"price\").count(),  # number of ticks for each trade\n",
    "    )\n",
    ")\n",
    "# Create boolean indicating if the trade was long or short\n",
    "df_trades = df_trades.with_columns(\n",
    "    (pl.col(\"quote_sign\") >= 0).alias(\"is_long\")\n",
    ")\n",
    "\n",
    "df_trades"
   ]
  },
  {
   "cell_type": "code",
   "execution_count": null,
   "id": "51f13b47-5eea-4cd9-9168-138349cb4c55",
   "metadata": {},
   "outputs": [],
   "source": [
    "# compute slippage\n",
    "df_trades = df_trades.with_columns(\n",
    "    quote_slippage_abs=(pl.col(\"quote_abs\") - pl.col(\"price_first\") * pl.col(\"quantity_abs\")).abs()\n",
    ")\n",
    "df_trades = df_trades.with_columns(\n",
    "    quote_slippage_sign=pl.col(\"quote_slippage_abs\") * pl.col(\"quantity_sign\").sign()\n",
    ")"
   ]
  },
  {
   "cell_type": "markdown",
   "id": "f1c71ec4-79e4-489d-b601-59fa39c7329d",
   "metadata": {},
   "source": [
    "<h4>Add lags of time and price will help when resampling</h4>"
   ]
  },
  {
   "cell_type": "code",
   "execution_count": null,
   "id": "ee06e1c1-2e03-407a-9daa-fb6c466f7c29",
   "metadata": {},
   "outputs": [],
   "source": [
    "df_trades = df_trades.with_columns(\n",
    "    price_last_lag=pl.col(\"price_last\").shift(1),\n",
    "    trade_time_lag=pl.col(\"trade_time\").shift(1),\n",
    "    price_first_neg_lag=pl.col(\"price_first\").shift(-1),\n",
    "    trade_time_neg_lag=pl.col(\"trade_time\").shift(-1)\n",
    ")"
   ]
  },
  {
   "cell_type": "code",
   "execution_count": null,
   "id": "7ced2c7b-2301-4aa6-8faf-1cdc23402954",
   "metadata": {},
   "outputs": [],
   "source": [
    "sampled_features: pl.DataFrame = (\n",
    "    df_trades\n",
    "    .group_by_dynamic(\n",
    "        index_column=\"trade_time\", \n",
    "        every=timedelta(milliseconds=500),\n",
    "        period=timedelta(seconds=5),\n",
    "        closed=\"right\",\n",
    "        label=\"right\",\n",
    "        include_boundaries=True\n",
    "    )\n",
    "    .agg(\n",
    "        asset_return=(pl.col(\"price_first_neg_lag\").last() / pl.col(\"price_last_lag\").first() - 1) * 1e4,\n",
    "        asset_hold_time=(pl.col(\"trade_time_neg_lag\").last() - pl.col(\"trade_time_lag\").first()).dt.total_nanoseconds() / 1e9,\n",
    "        flow_imbalance=pl.col(\"quote_sign\").sum() / pl.col(\"quote_abs\").sum(),\n",
    "        slippage_imbalance=pl.col(\"quote_slippage_sign\").sum() / pl.col(\"quote_slippage_abs\").sum(),\n",
    "        powerlaw_alpha= 1 + pl.len() / (pl.col(\"quote_abs\") / pl.col(\"quote_abs\").min()).log().sum(),\n",
    "        share_of_longs=pl.col(\"is_long\").sum() / pl.len(),\n",
    "        num_agg_trades=pl.len()\n",
    "    )\n",
    "    .filter(\n",
    "        pl.col(\"trade_time\").is_between(bounds.start_inclusive, bounds.end_exclusive)\n",
    "    )\n",
    ")"
   ]
  },
  {
   "cell_type": "code",
   "execution_count": null,
   "id": "c5ea99d5-9076-4a8b-8ffb-553a8f488d83",
   "metadata": {},
   "outputs": [],
   "source": [
    "index: pd.DatetimeIndex = pd.date_range(\n",
    "    bounds.start_inclusive, bounds.end_exclusive, freq=timedelta(milliseconds=500)\n",
    ")\n",
    "df_index: pl.DataFrame = pl.DataFrame({\"sampled_time\": index})\n",
    "\n",
    "# left join to desired time index to make sure that dimensions are correct\n",
    "df_features: pl.DataFrame = df_index.join(\n",
    "    sampled_features, left_on=\"sampled_time\", right_on=\"trade_time\", how=\"left\"\n",
    ")\n",
    "df_features = df_features.with_columns(\n",
    "    window=pl.lit(\"500MS\")\n",
    ")"
   ]
  },
  {
   "cell_type": "code",
   "execution_count": null,
   "id": "9dae541e-143b-4478-87bd-8fdcc303480e",
   "metadata": {},
   "outputs": [],
   "source": [
    "cols= [\n",
    "    \"asset_return\",\n",
    "    \"asset_hold_time\",\n",
    "    \"flow_imbalance\",\n",
    "    \"slippage_imbalance\",\n",
    "    \"powerlaw_alpha\",\n",
    "    \"share_of_longs\"\n",
    "]"
   ]
  },
  {
   "cell_type": "markdown",
   "id": "27bcd689-a231-4d6c-b411-0afdea2f84ea",
   "metadata": {},
   "source": [
    "<h4>Validate that everything is computed correctly</h4>"
   ]
  },
  {
   "cell_type": "code",
   "execution_count": 2,
   "id": "e3790d64-7c73-49bb-bd19-daa89fb5ac29",
   "metadata": {},
   "outputs": [],
   "source": [
    "from core.paths import FEATURE_DIR\n",
    "from core.time_utils import Bounds\n",
    "from datetime import date\n",
    "from feature_writer.utils import to_wide_format\n",
    "from core.currency_pair import CurrencyPair\n",
    "\n",
    "\n",
    "import polars as pl\n",
    "\n",
    "\n",
    "hive: pl.LazyFrame = pl.scan_parquet(FEATURE_DIR)\n",
    "bounds: Bounds = Bounds.for_days(\n",
    "    date(2024, 1, 1), date(2024, 1, 4)\n",
    ")\n",
    "\n",
    "data = hive.filter(\n",
    "    (pl.col(\"currency_pair\") == CurrencyPair.from_string(\"BTC-USDT\").name) &\n",
    "    (pl.col(\"date\").is_between(bounds.day0, bounds.day1))\n",
    ").collect()"
   ]
  },
  {
   "cell_type": "code",
   "execution_count": 4,
   "id": "eee21bc1-ea0d-4db2-be3c-878374819a9c",
   "metadata": {},
   "outputs": [
    {
     "data": {
      "text/html": [
       "<div><style>\n",
       ".dataframe > thead > tr,\n",
       ".dataframe > tbody > tr {\n",
       "  text-align: right;\n",
       "  white-space: pre-wrap;\n",
       "}\n",
       "</style>\n",
       "<small>shape: (518_400, 56)</small><table border=\"1\" class=\"dataframe\"><thead><tr><th>sampled_time</th><th>currency_pair</th><th>asset_hold_time_10S</th><th>asset_hold_time_120S</th><th>asset_hold_time_1S</th><th>asset_hold_time_2S</th><th>asset_hold_time_300S</th><th>asset_hold_time_30S</th><th>asset_hold_time_500MS</th><th>asset_hold_time_5S</th><th>asset_hold_time_60S</th><th>asset_return_10S</th><th>asset_return_120S</th><th>asset_return_1S</th><th>asset_return_2S</th><th>asset_return_300S</th><th>asset_return_30S</th><th>asset_return_500MS</th><th>asset_return_5S</th><th>asset_return_60S</th><th>flow_imbalance_10S</th><th>flow_imbalance_120S</th><th>flow_imbalance_1S</th><th>flow_imbalance_2S</th><th>flow_imbalance_300S</th><th>flow_imbalance_30S</th><th>flow_imbalance_500MS</th><th>flow_imbalance_5S</th><th>flow_imbalance_60S</th><th>powerlaw_alpha_10S</th><th>powerlaw_alpha_120S</th><th>powerlaw_alpha_1S</th><th>powerlaw_alpha_2S</th><th>powerlaw_alpha_300S</th><th>powerlaw_alpha_30S</th><th>powerlaw_alpha_500MS</th><th>powerlaw_alpha_5S</th><th>powerlaw_alpha_60S</th><th>share_of_long_trades_10S</th><th>share_of_long_trades_120S</th><th>share_of_long_trades_1S</th><th>share_of_long_trades_2S</th><th>share_of_long_trades_300S</th><th>share_of_long_trades_30S</th><th>share_of_long_trades_500MS</th><th>share_of_long_trades_5S</th><th>share_of_long_trades_60S</th><th>slippage_imbalance_10S</th><th>slippage_imbalance_120S</th><th>slippage_imbalance_1S</th><th>slippage_imbalance_2S</th><th>slippage_imbalance_300S</th><th>slippage_imbalance_30S</th><th>slippage_imbalance_500MS</th><th>slippage_imbalance_5S</th><th>slippage_imbalance_60S</th></tr><tr><td>datetime[ns]</td><td>str</td><td>f64</td><td>f64</td><td>f64</td><td>f64</td><td>f64</td><td>f64</td><td>f64</td><td>f64</td><td>f64</td><td>f64</td><td>f64</td><td>f64</td><td>f64</td><td>f64</td><td>f64</td><td>f64</td><td>f64</td><td>f64</td><td>f64</td><td>f64</td><td>f64</td><td>f64</td><td>f64</td><td>f64</td><td>f64</td><td>f64</td><td>f64</td><td>f64</td><td>f64</td><td>f64</td><td>f64</td><td>f64</td><td>f64</td><td>f64</td><td>f64</td><td>f64</td><td>f64</td><td>f64</td><td>f64</td><td>f64</td><td>f64</td><td>f64</td><td>f64</td><td>f64</td><td>f64</td><td>f64</td><td>f64</td><td>f64</td><td>f64</td><td>f64</td><td>f64</td><td>f64</td><td>f64</td><td>f64</td></tr></thead><tbody><tr><td>2024-01-01 00:00:00</td><td>&quot;BTC-USDT&quot;</td><td>null</td><td>null</td><td>null</td><td>null</td><td>null</td><td>null</td><td>null</td><td>null</td><td>null</td><td>null</td><td>null</td><td>null</td><td>null</td><td>null</td><td>null</td><td>null</td><td>null</td><td>null</td><td>null</td><td>null</td><td>null</td><td>null</td><td>null</td><td>null</td><td>-1.0</td><td>null</td><td>null</td><td>null</td><td>null</td><td>null</td><td>null</td><td>null</td><td>null</td><td>inf</td><td>null</td><td>null</td><td>null</td><td>null</td><td>null</td><td>null</td><td>null</td><td>null</td><td>0.0</td><td>null</td><td>null</td><td>null</td><td>null</td><td>null</td><td>null</td><td>null</td><td>null</td><td>null</td><td>null</td><td>null</td></tr><tr><td>2024-01-01 00:00:00.500</td><td>&quot;BTC-USDT&quot;</td><td>null</td><td>null</td><td>null</td><td>null</td><td>null</td><td>null</td><td>0.916</td><td>null</td><td>null</td><td>null</td><td>null</td><td>null</td><td>null</td><td>null</td><td>null</td><td>0.002365</td><td>null</td><td>null</td><td>null</td><td>null</td><td>-0.031516</td><td>null</td><td>null</td><td>null</td><td>-0.006088</td><td>null</td><td>null</td><td>null</td><td>null</td><td>1.830844</td><td>null</td><td>null</td><td>null</td><td>1.771817</td><td>null</td><td>null</td><td>null</td><td>null</td><td>0.416667</td><td>null</td><td>null</td><td>null</td><td>0.454545</td><td>null</td><td>null</td><td>null</td><td>null</td><td>0.59792</td><td>null</td><td>null</td><td>null</td><td>0.59792</td><td>null</td><td>null</td></tr><tr><td>2024-01-01 00:00:01</td><td>&quot;BTC-USDT&quot;</td><td>null</td><td>null</td><td>1.001</td><td>null</td><td>null</td><td>null</td><td>0.505</td><td>null</td><td>null</td><td>null</td><td>null</td><td>0.002365</td><td>null</td><td>null</td><td>null</td><td>0.002365</td><td>null</td><td>null</td><td>null</td><td>null</td><td>-0.561143</td><td>null</td><td>null</td><td>null</td><td>-0.857143</td><td>null</td><td>null</td><td>null</td><td>null</td><td>1.635442</td><td>null</td><td>null</td><td>null</td><td>1.779743</td><td>null</td><td>null</td><td>null</td><td>null</td><td>0.461538</td><td>null</td><td>null</td><td>null</td><td>0.5</td><td>null</td><td>null</td><td>null</td><td>null</td><td>0.59792</td><td>null</td><td>null</td><td>null</td><td>null</td><td>null</td><td>null</td></tr><tr><td>2024-01-01 00:00:01.500</td><td>&quot;BTC-USDT&quot;</td><td>null</td><td>null</td><td>1.03</td><td>null</td><td>null</td><td>null</td><td>0.609</td><td>null</td><td>null</td><td>null</td><td>null</td><td>0.0</td><td>null</td><td>null</td><td>null</td><td>0.0</td><td>null</td><td>null</td><td>null</td><td>null</td><td>-0.4819</td><td>-0.467584</td><td>null</td><td>null</td><td>-0.457954</td><td>null</td><td>null</td><td>null</td><td>null</td><td>1.242083</td><td>1.270381</td><td>null</td><td>null</td><td>1.244701</td><td>null</td><td>null</td><td>null</td><td>null</td><td>0.230769</td><td>0.289474</td><td>null</td><td>null</td><td>0.208333</td><td>null</td><td>null</td><td>null</td><td>null</td><td>1.0</td><td>0.819455</td><td>null</td><td>null</td><td>1.0</td><td>null</td><td>null</td></tr><tr><td>2024-01-01 00:00:02</td><td>&quot;BTC-USDT&quot;</td><td>null</td><td>null</td><td>1.221</td><td>2.138</td><td>null</td><td>null</td><td>0.663</td><td>null</td><td>null</td><td>null</td><td>null</td><td>0.0</td><td>0.0</td><td>null</td><td>null</td><td>-0.002365</td><td>null</td><td>null</td><td>null</td><td>null</td><td>0.10062</td><td>0.066155</td><td>null</td><td>null</td><td>0.81596</td><td>null</td><td>null</td><td>null</td><td>null</td><td>1.253723</td><td>1.267455</td><td>null</td><td>null</td><td>1.349468</td><td>null</td><td>null</td><td>null</td><td>null</td><td>0.230769</td><td>0.288462</td><td>null</td><td>null</td><td>0.266667</td><td>null</td><td>null</td><td>null</td><td>null</td><td>1.0</td><td>0.993349</td><td>null</td><td>null</td><td>1.0</td><td>null</td><td>null</td></tr><tr><td>&hellip;</td><td>&hellip;</td><td>&hellip;</td><td>&hellip;</td><td>&hellip;</td><td>&hellip;</td><td>&hellip;</td><td>&hellip;</td><td>&hellip;</td><td>&hellip;</td><td>&hellip;</td><td>&hellip;</td><td>&hellip;</td><td>&hellip;</td><td>&hellip;</td><td>&hellip;</td><td>&hellip;</td><td>&hellip;</td><td>&hellip;</td><td>&hellip;</td><td>&hellip;</td><td>&hellip;</td><td>&hellip;</td><td>&hellip;</td><td>&hellip;</td><td>&hellip;</td><td>&hellip;</td><td>&hellip;</td><td>&hellip;</td><td>&hellip;</td><td>&hellip;</td><td>&hellip;</td><td>&hellip;</td><td>&hellip;</td><td>&hellip;</td><td>&hellip;</td><td>&hellip;</td><td>&hellip;</td><td>&hellip;</td><td>&hellip;</td><td>&hellip;</td><td>&hellip;</td><td>&hellip;</td><td>&hellip;</td><td>&hellip;</td><td>&hellip;</td><td>&hellip;</td><td>&hellip;</td><td>&hellip;</td><td>&hellip;</td><td>&hellip;</td><td>&hellip;</td><td>&hellip;</td><td>&hellip;</td><td>&hellip;</td><td>&hellip;</td></tr><tr><td>2024-01-03 23:59:57.500</td><td>&quot;BTC-USDT&quot;</td><td>10.595</td><td>120.46</td><td>1.431</td><td>2.55</td><td>300.438</td><td>31.054</td><td>0.907</td><td>5.531</td><td>61.099</td><td>0.0</td><td>6.90869</td><td>0.0</td><td>0.0</td><td>5.4131</td><td>3.581612</td><td>-0.002334</td><td>0.0</td><td>3.670367</td><td>-0.186899</td><td>0.056985</td><td>0.010181</td><td>-0.828636</td><td>-0.063079</td><td>0.585288</td><td>-0.958087</td><td>-0.442614</td><td>-0.005005</td><td>1.388809</td><td>1.178424</td><td>1.3705</td><td>1.369208</td><td>1.176213</td><td>1.302363</td><td>1.469951</td><td>1.340354</td><td>1.31637</td><td>0.364865</td><td>0.49247</td><td>0.333333</td><td>0.185185</td><td>0.41762</td><td>0.444444</td><td>0.25</td><td>0.222222</td><td>0.449153</td><td>1.508689</td><td>0.845417</td><td>null</td><td>-1.0</td><td>0.892037</td><td>1.0</td><td>null</td><td>0.76201</td><td>0.837502</td></tr><tr><td>2024-01-03 23:59:58</td><td>&quot;BTC-USDT&quot;</td><td>10.56</td><td>120.937</td><td>1.384</td><td>2.461</td><td>300.915</td><td>31.531</td><td>0.893</td><td>5.466</td><td>60.661</td><td>0.002334</td><td>6.911026</td><td>0.0</td><td>0.002334</td><td>5.415436</td><td>3.583947</td><td>0.002334</td><td>0.002334</td><td>3.675038</td><td>-0.186774</td><td>0.056963</td><td>-0.959075</td><td>-0.642649</td><td>-0.063086</td><td>0.585154</td><td>-1.0</td><td>-0.434697</td><td>-0.00351</td><td>1.389407</td><td>1.178502</td><td>1.514974</td><td>1.443734</td><td>1.176243</td><td>1.303497</td><td>inf</td><td>1.348445</td><td>1.315907</td><td>0.364865</td><td>0.491729</td><td>0.2</td><td>0.136364</td><td>0.417381</td><td>0.441558</td><td>0.0</td><td>0.222222</td><td>0.452991</td><td>1.508689</td><td>0.845417</td><td>null</td><td>-1.0</td><td>0.892037</td><td>1.0</td><td>null</td><td>0.76201</td><td>0.837502</td></tr><tr><td>2024-01-03 23:59:58.500</td><td>&quot;BTC-USDT&quot;</td><td>10.904</td><td>120.696</td><td>1.701</td><td>2.716</td><td>300.682</td><td>30.669</td><td>1.285</td><td>6.069</td><td>60.713</td><td>0.0</td><td>6.90869</td><td>0.0</td><td>0.0</td><td>5.4131</td><td>3.581612</td><td>0.0</td><td>-0.002334</td><td>3.670367</td><td>-0.100852</td><td>0.05545</td><td>-0.577982</td><td>-0.002844</td><td>-0.063005</td><td>0.588987</td><td>-0.178571</td><td>-0.435784</td><td>-0.00335</td><td>1.401425</td><td>1.178794</td><td>3.508759</td><td>1.487043</td><td>1.176345</td><td>1.306232</td><td>6.539965</td><td>1.355507</td><td>1.317332</td><td>0.383562</td><td>0.491729</td><td>0.333333</td><td>0.333333</td><td>0.41762</td><td>0.444444</td><td>0.5</td><td>0.222222</td><td>0.452991</td><td>1.508689</td><td>0.845417</td><td>null</td><td>null</td><td>0.892037</td><td>1.0</td><td>null</td><td>0.76201</td><td>0.837502</td></tr><tr><td>2024-01-03 23:59:59</td><td>&quot;BTC-USDT&quot;</td><td>10.449</td><td>120.696</td><td>1.285</td><td>2.192</td><td>300.682</td><td>30.322</td><td>null</td><td>5.207</td><td>60.644</td><td>0.0</td><td>6.90869</td><td>0.0</td><td>-0.002334</td><td>5.4131</td><td>3.581612</td><td>null</td><td>-0.002334</td><td>3.670367</td><td>-0.100019</td><td>0.05545</td><td>-0.178571</td><td>-0.940104</td><td>-0.063005</td><td>0.58837</td><td>null</td><td>-0.361121</td><td>-0.00351</td><td>1.399912</td><td>1.178794</td><td>6.539965</td><td>1.648385</td><td>1.176345</td><td>1.305689</td><td>null</td><td>1.355963</td><td>1.317259</td><td>0.388889</td><td>0.491729</td><td>0.5</td><td>0.285714</td><td>0.41762</td><td>0.44</td><td>null</td><td>0.225</td><td>0.451429</td><td>1.508689</td><td>0.845417</td><td>null</td><td>null</td><td>0.892037</td><td>1.0</td><td>null</td><td>0.76201</td><td>0.837502</td></tr><tr><td>2024-01-03 23:59:59.500</td><td>&quot;BTC-USDT&quot;</td><td>10.304</td><td>121.288</td><td>1.261</td><td>2.293</td><td>300.581</td><td>30.914</td><td>1.261</td><td>5.427</td><td>60.508</td><td>-0.002334</td><td>6.90869</td><td>0.0</td><td>0.0</td><td>5.4131</td><td>3.581612</td><td>0.0</td><td>0.0</td><td>3.670367</td><td>-0.095941</td><td>0.055433</td><td>-1.0</td><td>-0.695364</td><td>-0.063058</td><td>0.588263</td><td>-1.0</td><td>-0.831371</td><td>-0.003693</td><td>1.393669</td><td>1.178883</td><td>inf</td><td>3.224712</td><td>1.176382</td><td>1.306993</td><td>inf</td><td>1.379348</td><td>1.317742</td><td>0.367647</td><td>0.490991</td><td>0.0</td><td>0.25</td><td>0.417048</td><td>0.437086</td><td>0.0</td><td>0.184211</td><td>0.448571</td><td>1.508689</td><td>0.845417</td><td>null</td><td>null</td><td>0.892037</td><td>1.0</td><td>null</td><td>0.76201</td><td>0.837502</td></tr></tbody></table></div>"
      ],
      "text/plain": [
       "shape: (518_400, 56)\n",
       "┌───────────┬───────────┬───────────┬───────────┬───┬───────────┬───────────┬───────────┬──────────┐\n",
       "│ sampled_t ┆ currency_ ┆ asset_hol ┆ asset_hol ┆ … ┆ slippage_ ┆ slippage_ ┆ slippage_ ┆ slippage │\n",
       "│ ime       ┆ pair      ┆ d_time_10 ┆ d_time_12 ┆   ┆ imbalance ┆ imbalance ┆ imbalance ┆ _imbalan │\n",
       "│ ---       ┆ ---       ┆ S         ┆ 0S        ┆   ┆ _30S      ┆ _500MS    ┆ _5S       ┆ ce_60S   │\n",
       "│ datetime[ ┆ str       ┆ ---       ┆ ---       ┆   ┆ ---       ┆ ---       ┆ ---       ┆ ---      │\n",
       "│ ns]       ┆           ┆ f64       ┆ f64       ┆   ┆ f64       ┆ f64       ┆ f64       ┆ f64      │\n",
       "╞═══════════╪═══════════╪═══════════╪═══════════╪═══╪═══════════╪═══════════╪═══════════╪══════════╡\n",
       "│ 2024-01-0 ┆ BTC-USDT  ┆ null      ┆ null      ┆ … ┆ null      ┆ null      ┆ null      ┆ null     │\n",
       "│ 1         ┆           ┆           ┆           ┆   ┆           ┆           ┆           ┆          │\n",
       "│ 00:00:00  ┆           ┆           ┆           ┆   ┆           ┆           ┆           ┆          │\n",
       "│ 2024-01-0 ┆ BTC-USDT  ┆ null      ┆ null      ┆ … ┆ null      ┆ 0.59792   ┆ null      ┆ null     │\n",
       "│ 1 00:00:0 ┆           ┆           ┆           ┆   ┆           ┆           ┆           ┆          │\n",
       "│ 0.500     ┆           ┆           ┆           ┆   ┆           ┆           ┆           ┆          │\n",
       "│ 2024-01-0 ┆ BTC-USDT  ┆ null      ┆ null      ┆ … ┆ null      ┆ null      ┆ null      ┆ null     │\n",
       "│ 1         ┆           ┆           ┆           ┆   ┆           ┆           ┆           ┆          │\n",
       "│ 00:00:01  ┆           ┆           ┆           ┆   ┆           ┆           ┆           ┆          │\n",
       "│ 2024-01-0 ┆ BTC-USDT  ┆ null      ┆ null      ┆ … ┆ null      ┆ 1.0       ┆ null      ┆ null     │\n",
       "│ 1 00:00:0 ┆           ┆           ┆           ┆   ┆           ┆           ┆           ┆          │\n",
       "│ 1.500     ┆           ┆           ┆           ┆   ┆           ┆           ┆           ┆          │\n",
       "│ 2024-01-0 ┆ BTC-USDT  ┆ null      ┆ null      ┆ … ┆ null      ┆ 1.0       ┆ null      ┆ null     │\n",
       "│ 1         ┆           ┆           ┆           ┆   ┆           ┆           ┆           ┆          │\n",
       "│ 00:00:02  ┆           ┆           ┆           ┆   ┆           ┆           ┆           ┆          │\n",
       "│ …         ┆ …         ┆ …         ┆ …         ┆ … ┆ …         ┆ …         ┆ …         ┆ …        │\n",
       "│ 2024-01-0 ┆ BTC-USDT  ┆ 10.595    ┆ 120.46    ┆ … ┆ 1.0       ┆ null      ┆ 0.76201   ┆ 0.837502 │\n",
       "│ 3 23:59:5 ┆           ┆           ┆           ┆   ┆           ┆           ┆           ┆          │\n",
       "│ 7.500     ┆           ┆           ┆           ┆   ┆           ┆           ┆           ┆          │\n",
       "│ 2024-01-0 ┆ BTC-USDT  ┆ 10.56     ┆ 120.937   ┆ … ┆ 1.0       ┆ null      ┆ 0.76201   ┆ 0.837502 │\n",
       "│ 3         ┆           ┆           ┆           ┆   ┆           ┆           ┆           ┆          │\n",
       "│ 23:59:58  ┆           ┆           ┆           ┆   ┆           ┆           ┆           ┆          │\n",
       "│ 2024-01-0 ┆ BTC-USDT  ┆ 10.904    ┆ 120.696   ┆ … ┆ 1.0       ┆ null      ┆ 0.76201   ┆ 0.837502 │\n",
       "│ 3 23:59:5 ┆           ┆           ┆           ┆   ┆           ┆           ┆           ┆          │\n",
       "│ 8.500     ┆           ┆           ┆           ┆   ┆           ┆           ┆           ┆          │\n",
       "│ 2024-01-0 ┆ BTC-USDT  ┆ 10.449    ┆ 120.696   ┆ … ┆ 1.0       ┆ null      ┆ 0.76201   ┆ 0.837502 │\n",
       "│ 3         ┆           ┆           ┆           ┆   ┆           ┆           ┆           ┆          │\n",
       "│ 23:59:59  ┆           ┆           ┆           ┆   ┆           ┆           ┆           ┆          │\n",
       "│ 2024-01-0 ┆ BTC-USDT  ┆ 10.304    ┆ 121.288   ┆ … ┆ 1.0       ┆ null      ┆ 0.76201   ┆ 0.837502 │\n",
       "│ 3 23:59:5 ┆           ┆           ┆           ┆   ┆           ┆           ┆           ┆          │\n",
       "│ 9.500     ┆           ┆           ┆           ┆   ┆           ┆           ┆           ┆          │\n",
       "└───────────┴───────────┴───────────┴───────────┴───┴───────────┴───────────┴───────────┴──────────┘"
      ]
     },
     "execution_count": 4,
     "metadata": {},
     "output_type": "execute_result"
    }
   ],
   "source": [
    "to_wide_format(data)"
   ]
  }
 ],
 "metadata": {
  "kernelspec": {
   "display_name": "Python 3 (ipykernel)",
   "language": "python",
   "name": "python3"
  },
  "language_info": {
   "codemirror_mode": {
    "name": "ipython",
    "version": 3
   },
   "file_extension": ".py",
   "mimetype": "text/x-python",
   "name": "python",
   "nbconvert_exporter": "python",
   "pygments_lexer": "ipython3",
   "version": "3.12.4"
  }
 },
 "nbformat": 4,
 "nbformat_minor": 5
}
