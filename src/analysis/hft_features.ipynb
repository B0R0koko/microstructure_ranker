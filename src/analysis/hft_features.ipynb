{
 "cells": [
  {
   "cell_type": "code",
   "execution_count": 5,
   "id": "initial_id",
   "metadata": {
    "ExecuteTime": {
     "end_time": "2025-05-15T20:18:10.523649Z",
     "start_time": "2025-05-15T20:18:10.510452Z"
    }
   },
   "outputs": [],
   "source": [
    "from typing import *\n",
    "from datetime import datetime, timedelta, date\n",
    "from core.time_utils import Bounds\n",
    "from tqdm import tqdm\n",
    "\n",
    "import pandas as pd\n",
    "import seaborn as sns\n",
    "import matplotlib.pyplot as plt\n",
    "import warnings\n",
    "import numpy as np\n",
    "import polars as pl\n",
    "\n",
    "warnings.simplefilter(\"ignore\")"
   ]
  },
  {
   "cell_type": "code",
   "execution_count": 17,
   "id": "2e819ae4-884b-4fd0-89ba-372791225119",
   "metadata": {},
   "outputs": [],
   "source": [
    "bounds: Bounds = Bounds.for_days(\n",
    "    date(2025, 1, 1), date(2025, 1, 2)\n",
    ")\n",
    "\n",
    "df_ticks = (\n",
    "    pl.scan_parquet(r\"D:\\data\\transformed\\trades\")\n",
    "    .filter(\n",
    "        (pl.col(\"date\").is_between(bounds.day0, bounds.day1)) & \n",
    "        (pl.col(\"symbol\") == \"BTC-USDT\") &\n",
    "        (pl.col(\"trade_time\").is_between(bounds.start_inclusive, bounds.end_exclusive))\n",
    "    )\n",
    "    .collect()\n",
    ")"
   ]
  },
  {
   "cell_type": "code",
   "execution_count": 20,
   "id": "3674319e-29d2-4fb2-affd-176c9741e7a4",
   "metadata": {},
   "outputs": [],
   "source": [
    "df_ticks = df_ticks.sort(by=\"trade_time\", descending=False)\n",
    "assert df_ticks[\"trade_time\"].is_sorted()"
   ]
  },
  {
   "cell_type": "code",
   "execution_count": 21,
   "id": "ff87df69-f1fe-49f8-a52b-584cabd674c9",
   "metadata": {},
   "outputs": [],
   "source": [
    "df_ticks = df_ticks.with_columns(\n",
    "    quote_abs=pl.col(\"price\") * pl.col(\"quantity\"),\n",
    "    side=1 - 2 * pl.col(\"is_buyer_maker\")  # -1 if SELL, 1 if BUY\n",
    ")\n",
    "df_ticks = df_ticks.with_columns(\n",
    "    quote_sign=pl.col(\"quote_abs\") * pl.col(\"side\"),\n",
    "    quantity_sign=pl.col(\"quantity\") * pl.col(\"side\")\n",
    ")"
   ]
  },
  {
   "cell_type": "code",
   "execution_count": 22,
   "id": "c22c44d6-6802-4cb3-b989-1d92de5e0f95",
   "metadata": {},
   "outputs": [
    {
     "data": {
      "text/html": [
       "<div><style>\n",
       ".dataframe > thead > tr,\n",
       ".dataframe > tbody > tr {\n",
       "  text-align: right;\n",
       "  white-space: pre-wrap;\n",
       "}\n",
       "</style>\n",
       "<small>shape: (356_697, 9)</small><table border=\"1\" class=\"dataframe\"><thead><tr><th>trade_time</th><th>price_first</th><th>price_last</th><th>quote_abs</th><th>quote_sign</th><th>quantity_sign</th><th>quantity_abs</th><th>num_ticks</th><th>is_long</th></tr><tr><td>datetime[ns]</td><td>f64</td><td>f64</td><td>f64</td><td>f64</td><td>f64</td><td>f64</td><td>u32</td><td>bool</td></tr></thead><tbody><tr><td>2025-01-01 00:00:00.010866</td><td>93576.0</td><td>93576.0</td><td>127.26336</td><td>-127.26336</td><td>-0.00136</td><td>0.00136</td><td>1</td><td>false</td></tr><tr><td>2025-01-01 00:00:00.074095</td><td>93576.0</td><td>93576.0</td><td>342.48816</td><td>-342.48816</td><td>-0.00366</td><td>0.00366</td><td>2</td><td>false</td></tr><tr><td>2025-01-01 00:00:00.091046</td><td>93576.0</td><td>93576.0</td><td>735.50736</td><td>-735.50736</td><td>-0.00786</td><td>0.00786</td><td>2</td><td>false</td></tr><tr><td>2025-01-01 00:00:00.266955</td><td>93576.01</td><td>93576.01</td><td>170.308338</td><td>170.308338</td><td>0.00182</td><td>0.00182</td><td>1</td><td>true</td></tr><tr><td>2025-01-01 00:00:00.299766</td><td>93576.0</td><td>93576.0</td><td>30007.01592</td><td>-30007.01592</td><td>-0.32067</td><td>0.32067</td><td>11</td><td>false</td></tr><tr><td>&hellip;</td><td>&hellip;</td><td>&hellip;</td><td>&hellip;</td><td>&hellip;</td><td>&hellip;</td><td>&hellip;</td><td>&hellip;</td><td>&hellip;</td></tr><tr><td>2025-01-01 23:59:58.462629</td><td>94591.78</td><td>94591.78</td><td>454.986462</td><td>-454.986462</td><td>-0.00481</td><td>0.00481</td><td>1</td><td>false</td></tr><tr><td>2025-01-01 23:59:58.814181</td><td>94591.78</td><td>94591.78</td><td>92.699944</td><td>-92.699944</td><td>-0.00098</td><td>0.00098</td><td>1</td><td>false</td></tr><tr><td>2025-01-01 23:59:58.941706</td><td>94591.78</td><td>94591.78</td><td>32.161205</td><td>-32.161205</td><td>-0.00034</td><td>0.00034</td><td>1</td><td>false</td></tr><tr><td>2025-01-01 23:59:59.438082</td><td>94591.79</td><td>94591.79</td><td>87.024447</td><td>87.024447</td><td>0.00092</td><td>0.00092</td><td>1</td><td>true</td></tr><tr><td>2025-01-01 23:59:59.658370</td><td>94591.79</td><td>94591.79</td><td>257.289669</td><td>257.289669</td><td>0.00272</td><td>0.00272</td><td>1</td><td>true</td></tr></tbody></table></div>"
      ],
      "text/plain": [
       "shape: (356_697, 9)\n",
       "┌────────────┬───────────┬───────────┬───────────┬───┬───────────┬───────────┬───────────┬─────────┐\n",
       "│ trade_time ┆ price_fir ┆ price_las ┆ quote_abs ┆ … ┆ quantity_ ┆ quantity_ ┆ num_ticks ┆ is_long │\n",
       "│ ---        ┆ st        ┆ t         ┆ ---       ┆   ┆ sign      ┆ abs       ┆ ---       ┆ ---     │\n",
       "│ datetime[n ┆ ---       ┆ ---       ┆ f64       ┆   ┆ ---       ┆ ---       ┆ u32       ┆ bool    │\n",
       "│ s]         ┆ f64       ┆ f64       ┆           ┆   ┆ f64       ┆ f64       ┆           ┆         │\n",
       "╞════════════╪═══════════╪═══════════╪═══════════╪═══╪═══════════╪═══════════╪═══════════╪═════════╡\n",
       "│ 2025-01-01 ┆ 93576.0   ┆ 93576.0   ┆ 127.26336 ┆ … ┆ -0.00136  ┆ 0.00136   ┆ 1         ┆ false   │\n",
       "│ 00:00:00.0 ┆           ┆           ┆           ┆   ┆           ┆           ┆           ┆         │\n",
       "│ 10866      ┆           ┆           ┆           ┆   ┆           ┆           ┆           ┆         │\n",
       "│ 2025-01-01 ┆ 93576.0   ┆ 93576.0   ┆ 342.48816 ┆ … ┆ -0.00366  ┆ 0.00366   ┆ 2         ┆ false   │\n",
       "│ 00:00:00.0 ┆           ┆           ┆           ┆   ┆           ┆           ┆           ┆         │\n",
       "│ 74095      ┆           ┆           ┆           ┆   ┆           ┆           ┆           ┆         │\n",
       "│ 2025-01-01 ┆ 93576.0   ┆ 93576.0   ┆ 735.50736 ┆ … ┆ -0.00786  ┆ 0.00786   ┆ 2         ┆ false   │\n",
       "│ 00:00:00.0 ┆           ┆           ┆           ┆   ┆           ┆           ┆           ┆         │\n",
       "│ 91046      ┆           ┆           ┆           ┆   ┆           ┆           ┆           ┆         │\n",
       "│ 2025-01-01 ┆ 93576.01  ┆ 93576.01  ┆ 170.30833 ┆ … ┆ 0.00182   ┆ 0.00182   ┆ 1         ┆ true    │\n",
       "│ 00:00:00.2 ┆           ┆           ┆ 8         ┆   ┆           ┆           ┆           ┆         │\n",
       "│ 66955      ┆           ┆           ┆           ┆   ┆           ┆           ┆           ┆         │\n",
       "│ 2025-01-01 ┆ 93576.0   ┆ 93576.0   ┆ 30007.015 ┆ … ┆ -0.32067  ┆ 0.32067   ┆ 11        ┆ false   │\n",
       "│ 00:00:00.2 ┆           ┆           ┆ 92        ┆   ┆           ┆           ┆           ┆         │\n",
       "│ 99766      ┆           ┆           ┆           ┆   ┆           ┆           ┆           ┆         │\n",
       "│ …          ┆ …         ┆ …         ┆ …         ┆ … ┆ …         ┆ …         ┆ …         ┆ …       │\n",
       "│ 2025-01-01 ┆ 94591.78  ┆ 94591.78  ┆ 454.98646 ┆ … ┆ -0.00481  ┆ 0.00481   ┆ 1         ┆ false   │\n",
       "│ 23:59:58.4 ┆           ┆           ┆ 2         ┆   ┆           ┆           ┆           ┆         │\n",
       "│ 62629      ┆           ┆           ┆           ┆   ┆           ┆           ┆           ┆         │\n",
       "│ 2025-01-01 ┆ 94591.78  ┆ 94591.78  ┆ 92.699944 ┆ … ┆ -0.00098  ┆ 0.00098   ┆ 1         ┆ false   │\n",
       "│ 23:59:58.8 ┆           ┆           ┆           ┆   ┆           ┆           ┆           ┆         │\n",
       "│ 14181      ┆           ┆           ┆           ┆   ┆           ┆           ┆           ┆         │\n",
       "│ 2025-01-01 ┆ 94591.78  ┆ 94591.78  ┆ 32.161205 ┆ … ┆ -0.00034  ┆ 0.00034   ┆ 1         ┆ false   │\n",
       "│ 23:59:58.9 ┆           ┆           ┆           ┆   ┆           ┆           ┆           ┆         │\n",
       "│ 41706      ┆           ┆           ┆           ┆   ┆           ┆           ┆           ┆         │\n",
       "│ 2025-01-01 ┆ 94591.79  ┆ 94591.79  ┆ 87.024447 ┆ … ┆ 0.00092   ┆ 0.00092   ┆ 1         ┆ true    │\n",
       "│ 23:59:59.4 ┆           ┆           ┆           ┆   ┆           ┆           ┆           ┆         │\n",
       "│ 38082      ┆           ┆           ┆           ┆   ┆           ┆           ┆           ┆         │\n",
       "│ 2025-01-01 ┆ 94591.79  ┆ 94591.79  ┆ 257.28966 ┆ … ┆ 0.00272   ┆ 0.00272   ┆ 1         ┆ true    │\n",
       "│ 23:59:59.6 ┆           ┆           ┆ 9         ┆   ┆           ┆           ┆           ┆         │\n",
       "│ 58370      ┆           ┆           ┆           ┆   ┆           ┆           ┆           ┆         │\n",
       "└────────────┴───────────┴───────────┴───────────┴───┴───────────┴───────────┴───────────┴─────────┘"
      ]
     },
     "execution_count": 22,
     "metadata": {},
     "output_type": "execute_result"
    }
   ],
   "source": [
    "df_ticks = df_ticks.sort(by=\"trade_time\", descending=False)\n",
    "\n",
    "df_trades: pl.DataFrame = (\n",
    "    df_ticks\n",
    "    .group_by(\"trade_time\", maintain_order=True)\n",
    "    .agg(\n",
    "        price_first=pl.col(\"price\").first(),  # if someone placed a trade with price impact, then price_first\n",
    "        price_last=pl.col(\"price\").last(),  # and price_last will differ\n",
    "        # Amount spent in quote asset for the trade\n",
    "        quote_abs=pl.col(\"quote_abs\").sum(),\n",
    "        quote_sign=pl.col(\"quote_sign\").sum(),\n",
    "        quantity_sign=pl.col(\"quantity_sign\").sum(),\n",
    "        # Amount of base asset transacted\n",
    "        quantity_abs=pl.col(\"quantity\").sum(),\n",
    "        num_ticks=pl.col(\"price\").count(),  # number of ticks for each trade\n",
    "    )\n",
    ")\n",
    "# Create boolean indicating if the trade was long or short\n",
    "df_trades = df_trades.with_columns(\n",
    "    (pl.col(\"quote_sign\") >= 0).alias(\"is_long\")\n",
    ")\n",
    "\n",
    "df_trades"
   ]
  },
  {
   "cell_type": "code",
   "execution_count": 23,
   "id": "ee06e1c1-2e03-407a-9daa-fb6c466f7c29",
   "metadata": {},
   "outputs": [],
   "source": [
    "df_trades = df_trades.with_columns(\n",
    "    price_last_lag=pl.col(\"price_last\").shift(1),\n",
    "    trade_time_lag=pl.col(\"trade_time\").shift(1),\n",
    "    price_first_neg_lag=pl.col(\"price_first\").shift(-1),\n",
    "    trade_time_neg_lag=pl.col(\"trade_time\").shift(-1)\n",
    ")"
   ]
  },
  {
   "cell_type": "code",
   "execution_count": 24,
   "id": "ff46ea77-7c03-467a-9079-251b8139db27",
   "metadata": {},
   "outputs": [],
   "source": [
    "# compute slippage\n",
    "df_trades = df_trades.with_columns(\n",
    "    quote_slippage_abs=(pl.col(\"quote_abs\") - pl.col(\"price_first\") * pl.col(\"quantity_abs\")).abs()\n",
    ")\n",
    "df_trades = df_trades.with_columns(\n",
    "    quote_slippage_sign=pl.col(\"quote_slippage_abs\") * pl.col(\"quantity_sign\").sign()\n",
    ")"
   ]
  },
  {
   "cell_type": "code",
   "execution_count": 38,
   "id": "9ec03e6c-4c84-4c27-803d-0226069eb127",
   "metadata": {},
   "outputs": [],
   "source": [
    "index = pd.date_range(\n",
    "    bounds.start_inclusive,\n",
    "    bounds.end_exclusive,\n",
    "    freq=timedelta(milliseconds=500),\n",
    ")\n",
    "\n",
    "df_index: pl.DataFrame = pl.DataFrame({\n",
    "    \"sampled_time\": index\n",
    "})\n",
    "\n",
    "df_s = df_index.join(features, left_on=\"sampled_time\", right_on=\"trade_time\", how=\"left\")"
   ]
  },
  {
   "cell_type": "code",
   "execution_count": 39,
   "id": "95e6dd9d-2897-4e0a-90d5-93bee7d055a6",
   "metadata": {},
   "outputs": [
    {
     "data": {
      "text/html": [
       "<div><style>\n",
       ".dataframe > thead > tr,\n",
       ".dataframe > tbody > tr {\n",
       "  text-align: right;\n",
       "  white-space: pre-wrap;\n",
       "}\n",
       "</style>\n",
       "<small>shape: (172_800, 8)</small><table border=\"1\" class=\"dataframe\"><thead><tr><th>sampled_time</th><th>asset_return</th><th>asset_hold_time</th><th>flow_imbalance</th><th>slippage_imbalance</th><th>powerlaw_alpha</th><th>share_of_longs</th><th>num_agg_trades</th></tr><tr><td>datetime[ns]</td><td>f64</td><td>f64</td><td>f64</td><td>f64</td><td>f64</td><td>f64</td><td>u32</td></tr></thead><tbody><tr><td>2025-01-01 00:00:00</td><td>null</td><td>null</td><td>null</td><td>null</td><td>null</td><td>null</td><td>null</td></tr><tr><td>2025-01-01 00:00:00.500</td><td>null</td><td>null</td><td>null</td><td>null</td><td>null</td><td>null</td><td>null</td></tr><tr><td>2025-01-01 00:00:01</td><td>null</td><td>null</td><td>null</td><td>null</td><td>null</td><td>null</td><td>null</td></tr><tr><td>2025-01-01 00:00:01.500</td><td>null</td><td>null</td><td>null</td><td>null</td><td>null</td><td>null</td><td>null</td></tr><tr><td>2025-01-01 00:00:02</td><td>null</td><td>null</td><td>null</td><td>null</td><td>null</td><td>null</td><td>null</td></tr><tr><td>&hellip;</td><td>&hellip;</td><td>&hellip;</td><td>&hellip;</td><td>&hellip;</td><td>&hellip;</td><td>&hellip;</td><td>&hellip;</td></tr><tr><td>2025-01-01 23:59:57.500</td><td>-0.256887</td><td>16.043331</td><td>0.377136</td><td>-0.99515</td><td>1.244561</td><td>0.375</td><td>88</td></tr><tr><td>2025-01-01 23:59:58</td><td>-0.256887</td><td>16.043331</td><td>0.377136</td><td>-0.99515</td><td>1.244561</td><td>0.375</td><td>88</td></tr><tr><td>2025-01-01 23:59:58.500</td><td>-0.256887</td><td>15.438697</td><td>0.365185</td><td>-0.99515</td><td>1.247207</td><td>0.376344</td><td>93</td></tr><tr><td>2025-01-01 23:59:59</td><td>-0.256887</td><td>15.767716</td><td>0.363557</td><td>-0.99515</td><td>1.245323</td><td>0.347826</td><td>92</td></tr><tr><td>2025-01-01 23:59:59.500</td><td>-0.256887</td><td>15.354167</td><td>0.36371</td><td>-0.99515</td><td>1.244184</td><td>0.347826</td><td>92</td></tr></tbody></table></div>"
      ],
      "text/plain": [
       "shape: (172_800, 8)\n",
       "┌────────────┬────────────┬────────────┬───────────┬───────────┬───────────┬───────────┬───────────┐\n",
       "│ sampled_ti ┆ asset_retu ┆ asset_hold ┆ flow_imba ┆ slippage_ ┆ powerlaw_ ┆ share_of_ ┆ num_agg_t │\n",
       "│ me         ┆ rn         ┆ _time      ┆ lance     ┆ imbalance ┆ alpha     ┆ longs     ┆ rades     │\n",
       "│ ---        ┆ ---        ┆ ---        ┆ ---       ┆ ---       ┆ ---       ┆ ---       ┆ ---       │\n",
       "│ datetime[n ┆ f64        ┆ f64        ┆ f64       ┆ f64       ┆ f64       ┆ f64       ┆ u32       │\n",
       "│ s]         ┆            ┆            ┆           ┆           ┆           ┆           ┆           │\n",
       "╞════════════╪════════════╪════════════╪═══════════╪═══════════╪═══════════╪═══════════╪═══════════╡\n",
       "│ 2025-01-01 ┆ null       ┆ null       ┆ null      ┆ null      ┆ null      ┆ null      ┆ null      │\n",
       "│ 00:00:00   ┆            ┆            ┆           ┆           ┆           ┆           ┆           │\n",
       "│ 2025-01-01 ┆ null       ┆ null       ┆ null      ┆ null      ┆ null      ┆ null      ┆ null      │\n",
       "│ 00:00:00.5 ┆            ┆            ┆           ┆           ┆           ┆           ┆           │\n",
       "│ 00         ┆            ┆            ┆           ┆           ┆           ┆           ┆           │\n",
       "│ 2025-01-01 ┆ null       ┆ null       ┆ null      ┆ null      ┆ null      ┆ null      ┆ null      │\n",
       "│ 00:00:01   ┆            ┆            ┆           ┆           ┆           ┆           ┆           │\n",
       "│ 2025-01-01 ┆ null       ┆ null       ┆ null      ┆ null      ┆ null      ┆ null      ┆ null      │\n",
       "│ 00:00:01.5 ┆            ┆            ┆           ┆           ┆           ┆           ┆           │\n",
       "│ 00         ┆            ┆            ┆           ┆           ┆           ┆           ┆           │\n",
       "│ 2025-01-01 ┆ null       ┆ null       ┆ null      ┆ null      ┆ null      ┆ null      ┆ null      │\n",
       "│ 00:00:02   ┆            ┆            ┆           ┆           ┆           ┆           ┆           │\n",
       "│ …          ┆ …          ┆ …          ┆ …         ┆ …         ┆ …         ┆ …         ┆ …         │\n",
       "│ 2025-01-01 ┆ -0.256887  ┆ 16.043331  ┆ 0.377136  ┆ -0.99515  ┆ 1.244561  ┆ 0.375     ┆ 88        │\n",
       "│ 23:59:57.5 ┆            ┆            ┆           ┆           ┆           ┆           ┆           │\n",
       "│ 00         ┆            ┆            ┆           ┆           ┆           ┆           ┆           │\n",
       "│ 2025-01-01 ┆ -0.256887  ┆ 16.043331  ┆ 0.377136  ┆ -0.99515  ┆ 1.244561  ┆ 0.375     ┆ 88        │\n",
       "│ 23:59:58   ┆            ┆            ┆           ┆           ┆           ┆           ┆           │\n",
       "│ 2025-01-01 ┆ -0.256887  ┆ 15.438697  ┆ 0.365185  ┆ -0.99515  ┆ 1.247207  ┆ 0.376344  ┆ 93        │\n",
       "│ 23:59:58.5 ┆            ┆            ┆           ┆           ┆           ┆           ┆           │\n",
       "│ 00         ┆            ┆            ┆           ┆           ┆           ┆           ┆           │\n",
       "│ 2025-01-01 ┆ -0.256887  ┆ 15.767716  ┆ 0.363557  ┆ -0.99515  ┆ 1.245323  ┆ 0.347826  ┆ 92        │\n",
       "│ 23:59:59   ┆            ┆            ┆           ┆           ┆           ┆           ┆           │\n",
       "│ 2025-01-01 ┆ -0.256887  ┆ 15.354167  ┆ 0.36371   ┆ -0.99515  ┆ 1.244184  ┆ 0.347826  ┆ 92        │\n",
       "│ 23:59:59.5 ┆            ┆            ┆           ┆           ┆           ┆           ┆           │\n",
       "│ 00         ┆            ┆            ┆           ┆           ┆           ┆           ┆           │\n",
       "└────────────┴────────────┴────────────┴───────────┴───────────┴───────────┴───────────┴───────────┘"
      ]
     },
     "execution_count": 39,
     "metadata": {},
     "output_type": "execute_result"
    }
   ],
   "source": [
    "df_s"
   ]
  },
  {
   "cell_type": "code",
   "execution_count": 27,
   "id": "7ced2c7b-2301-4aa6-8faf-1cdc23402954",
   "metadata": {},
   "outputs": [],
   "source": [
    "features = (\n",
    "    df_trades\n",
    "    .group_by_dynamic(\n",
    "        index_column=\"trade_time\", \n",
    "        every=timedelta(milliseconds=500),\n",
    "        period=timedelta(seconds=15),\n",
    "        closed=\"right\",\n",
    "        label=\"right\",\n",
    "    )\n",
    "    .agg(\n",
    "        asset_return=(pl.col(\"price_first_neg_lag\").last() / pl.col(\"price_last_lag\").first() - 1) * 1e4,\n",
    "        asset_hold_time=(pl.col(\"trade_time_neg_lag\").last() - pl.col(\"trade_time_lag\").first()).dt.total_nanoseconds() / 1e9,\n",
    "        flow_imbalance=pl.col(\"quote_sign\").sum() / pl.col(\"quote_abs\").sum(),\n",
    "        slippage_imbalance=pl.col(\"quote_slippage_sign\").sum() / pl.col(\"quote_slippage_abs\").sum(),\n",
    "        powerlaw_alpha= 1 + pl.len() / (pl.col(\"quote_abs\") / pl.col(\"quote_abs\").min()).log().sum(),\n",
    "        share_of_longs=pl.col(\"is_long\").sum() / pl.len(),\n",
    "        num_agg_trades=pl.len()\n",
    "    )\n",
    "    .filter(\n",
    "        pl.col(\"trade_time\").is_between(bounds.start_inclusive, bounds.end_exclusive)\n",
    "    )\n",
    ")"
   ]
  },
  {
   "cell_type": "code",
   "execution_count": 29,
   "id": "3cbb53fb-7afc-48df-b3d2-fabae5da12ca",
   "metadata": {},
   "outputs": [
    {
     "data": {
      "text/html": [
       "<div><style>\n",
       ".dataframe > thead > tr,\n",
       ".dataframe > tbody > tr {\n",
       "  text-align: right;\n",
       "  white-space: pre-wrap;\n",
       "}\n",
       "</style>\n",
       "<small>shape: (172_770, 8)</small><table border=\"1\" class=\"dataframe\"><thead><tr><th>trade_time</th><th>asset_return</th><th>asset_hold_time</th><th>flow_imbalance</th><th>slippage_imbalance</th><th>powerlaw_alpha</th><th>share_of_longs</th><th>num_agg_trades</th></tr><tr><td>datetime[ns]</td><td>f64</td><td>f64</td><td>f64</td><td>f64</td><td>f64</td><td>f64</td><td>u32</td></tr></thead><tbody><tr><td>2025-01-01 00:00:15</td><td>null</td><td>null</td><td>-0.745073</td><td>-1.0</td><td>1.32021</td><td>0.459716</td><td>211</td></tr><tr><td>2025-01-01 00:00:15.500</td><td>-2.97619</td><td>15.128935</td><td>-0.707661</td><td>-1.0</td><td>1.325113</td><td>0.473684</td><td>209</td></tr><tr><td>2025-01-01 00:00:16</td><td>-2.97619</td><td>15.305759</td><td>-0.692978</td><td>-1.0</td><td>1.321661</td><td>0.504854</td><td>206</td></tr><tr><td>2025-01-01 00:00:16.500</td><td>-4.115371</td><td>15.28254</td><td>-0.727626</td><td>-1.0</td><td>1.315989</td><td>0.453333</td><td>225</td></tr><tr><td>2025-01-01 00:00:17</td><td>-4.114302</td><td>15.212003</td><td>-0.721735</td><td>-1.0</td><td>1.315476</td><td>0.460177</td><td>226</td></tr><tr><td>&hellip;</td><td>&hellip;</td><td>&hellip;</td><td>&hellip;</td><td>&hellip;</td><td>&hellip;</td><td>&hellip;</td><td>&hellip;</td></tr><tr><td>2025-01-01 23:59:57.500</td><td>-0.256887</td><td>16.043331</td><td>0.377136</td><td>-0.99515</td><td>1.244561</td><td>0.375</td><td>88</td></tr><tr><td>2025-01-01 23:59:58</td><td>-0.256887</td><td>16.043331</td><td>0.377136</td><td>-0.99515</td><td>1.244561</td><td>0.375</td><td>88</td></tr><tr><td>2025-01-01 23:59:58.500</td><td>-0.256887</td><td>15.438697</td><td>0.365185</td><td>-0.99515</td><td>1.247207</td><td>0.376344</td><td>93</td></tr><tr><td>2025-01-01 23:59:59</td><td>-0.256887</td><td>15.767716</td><td>0.363557</td><td>-0.99515</td><td>1.245323</td><td>0.347826</td><td>92</td></tr><tr><td>2025-01-01 23:59:59.500</td><td>-0.256887</td><td>15.354167</td><td>0.36371</td><td>-0.99515</td><td>1.244184</td><td>0.347826</td><td>92</td></tr></tbody></table></div>"
      ],
      "text/plain": [
       "shape: (172_770, 8)\n",
       "┌────────────┬────────────┬────────────┬───────────┬───────────┬───────────┬───────────┬───────────┐\n",
       "│ trade_time ┆ asset_retu ┆ asset_hold ┆ flow_imba ┆ slippage_ ┆ powerlaw_ ┆ share_of_ ┆ num_agg_t │\n",
       "│ ---        ┆ rn         ┆ _time      ┆ lance     ┆ imbalance ┆ alpha     ┆ longs     ┆ rades     │\n",
       "│ datetime[n ┆ ---        ┆ ---        ┆ ---       ┆ ---       ┆ ---       ┆ ---       ┆ ---       │\n",
       "│ s]         ┆ f64        ┆ f64        ┆ f64       ┆ f64       ┆ f64       ┆ f64       ┆ u32       │\n",
       "╞════════════╪════════════╪════════════╪═══════════╪═══════════╪═══════════╪═══════════╪═══════════╡\n",
       "│ 2025-01-01 ┆ null       ┆ null       ┆ -0.745073 ┆ -1.0      ┆ 1.32021   ┆ 0.459716  ┆ 211       │\n",
       "│ 00:00:15   ┆            ┆            ┆           ┆           ┆           ┆           ┆           │\n",
       "│ 2025-01-01 ┆ -2.97619   ┆ 15.128935  ┆ -0.707661 ┆ -1.0      ┆ 1.325113  ┆ 0.473684  ┆ 209       │\n",
       "│ 00:00:15.5 ┆            ┆            ┆           ┆           ┆           ┆           ┆           │\n",
       "│ 00         ┆            ┆            ┆           ┆           ┆           ┆           ┆           │\n",
       "│ 2025-01-01 ┆ -2.97619   ┆ 15.305759  ┆ -0.692978 ┆ -1.0      ┆ 1.321661  ┆ 0.504854  ┆ 206       │\n",
       "│ 00:00:16   ┆            ┆            ┆           ┆           ┆           ┆           ┆           │\n",
       "│ 2025-01-01 ┆ -4.115371  ┆ 15.28254   ┆ -0.727626 ┆ -1.0      ┆ 1.315989  ┆ 0.453333  ┆ 225       │\n",
       "│ 00:00:16.5 ┆            ┆            ┆           ┆           ┆           ┆           ┆           │\n",
       "│ 00         ┆            ┆            ┆           ┆           ┆           ┆           ┆           │\n",
       "│ 2025-01-01 ┆ -4.114302  ┆ 15.212003  ┆ -0.721735 ┆ -1.0      ┆ 1.315476  ┆ 0.460177  ┆ 226       │\n",
       "│ 00:00:17   ┆            ┆            ┆           ┆           ┆           ┆           ┆           │\n",
       "│ …          ┆ …          ┆ …          ┆ …         ┆ …         ┆ …         ┆ …         ┆ …         │\n",
       "│ 2025-01-01 ┆ -0.256887  ┆ 16.043331  ┆ 0.377136  ┆ -0.99515  ┆ 1.244561  ┆ 0.375     ┆ 88        │\n",
       "│ 23:59:57.5 ┆            ┆            ┆           ┆           ┆           ┆           ┆           │\n",
       "│ 00         ┆            ┆            ┆           ┆           ┆           ┆           ┆           │\n",
       "│ 2025-01-01 ┆ -0.256887  ┆ 16.043331  ┆ 0.377136  ┆ -0.99515  ┆ 1.244561  ┆ 0.375     ┆ 88        │\n",
       "│ 23:59:58   ┆            ┆            ┆           ┆           ┆           ┆           ┆           │\n",
       "│ 2025-01-01 ┆ -0.256887  ┆ 15.438697  ┆ 0.365185  ┆ -0.99515  ┆ 1.247207  ┆ 0.376344  ┆ 93        │\n",
       "│ 23:59:58.5 ┆            ┆            ┆           ┆           ┆           ┆           ┆           │\n",
       "│ 00         ┆            ┆            ┆           ┆           ┆           ┆           ┆           │\n",
       "│ 2025-01-01 ┆ -0.256887  ┆ 15.767716  ┆ 0.363557  ┆ -0.99515  ┆ 1.245323  ┆ 0.347826  ┆ 92        │\n",
       "│ 23:59:59   ┆            ┆            ┆           ┆           ┆           ┆           ┆           │\n",
       "│ 2025-01-01 ┆ -0.256887  ┆ 15.354167  ┆ 0.36371   ┆ -0.99515  ┆ 1.244184  ┆ 0.347826  ┆ 92        │\n",
       "│ 23:59:59.5 ┆            ┆            ┆           ┆           ┆           ┆           ┆           │\n",
       "│ 00         ┆            ┆            ┆           ┆           ┆           ┆           ┆           │\n",
       "└────────────┴────────────┴────────────┴───────────┴───────────┴───────────┴───────────┴───────────┘"
      ]
     },
     "execution_count": 29,
     "metadata": {},
     "output_type": "execute_result"
    }
   ],
   "source": [
    "features"
   ]
  },
  {
   "cell_type": "code",
   "execution_count": null,
   "id": "a2cf4406-f51a-4fd7-a37b-55128257c9f2",
   "metadata": {},
   "outputs": [],
   "source": [
    "features.upsample(\n",
    "    time_column=\"trade_time\",\n",
    "    every=timedelta(milliseconds=500),\n",
    ")"
   ]
  },
  {
   "cell_type": "code",
   "execution_count": null,
   "id": "1182330d-5bb4-4f89-b476-c076d36b0ca4",
   "metadata": {},
   "outputs": [],
   "source": [
    "2 * 3600 * 24"
   ]
  },
  {
   "cell_type": "code",
   "execution_count": null,
   "id": "562a103d-488b-4e56-b57d-c5218bf48d47",
   "metadata": {},
   "outputs": [],
   "source": [
    "for dt, group in features.group_by_dynamic(\n",
    "    index_column=\"trade_time\", every=timedelta(days=1), period=timedelta(days=1), include_boundaries=True\n",
    "):\n",
    "    print(group.shape)\n"
   ]
  },
  {
   "cell_type": "code",
   "execution_count": null,
   "id": "6c4ba54a-63f1-408b-b368-02f78b5507fe",
   "metadata": {},
   "outputs": [],
   "source": [
    "group"
   ]
  }
 ],
 "metadata": {
  "kernelspec": {
   "display_name": "Python 3 (ipykernel)",
   "language": "python",
   "name": "python3"
  },
  "language_info": {
   "codemirror_mode": {
    "name": "ipython",
    "version": 3
   },
   "file_extension": ".py",
   "mimetype": "text/x-python",
   "name": "python",
   "nbconvert_exporter": "python",
   "pygments_lexer": "ipython3",
   "version": "3.12.4"
  }
 },
 "nbformat": 4,
 "nbformat_minor": 5
}
