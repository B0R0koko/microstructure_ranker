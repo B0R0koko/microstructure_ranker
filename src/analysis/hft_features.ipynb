{
 "cells": [
  {
   "cell_type": "code",
   "execution_count": 1,
   "id": "initial_id",
   "metadata": {
    "ExecuteTime": {
     "end_time": "2025-05-24T08:41:55.795186Z",
     "start_time": "2025-05-24T08:41:55.430964Z"
    }
   },
   "outputs": [],
   "source": [
    "import warnings\n",
    "from datetime import timedelta, date\n",
    "\n",
    "import pandas as pd\n",
    "import polars as pl\n",
    "\n",
    "from core.time_utils import Bounds\n",
    "\n",
    "warnings.simplefilter(\"ignore\")"
   ]
  },
  {
   "cell_type": "markdown",
   "id": "4dca46f7-2a13-442d-989c-3a268cfa9421",
   "metadata": {},
   "source": [
    "<h4>In this notebook we want to make that we don't show future to the model through our regressors</h4>"
   ]
  },
  {
   "cell_type": "markdown",
   "id": "06609931-fdc5-4fa9-9466-36db46130423",
   "metadata": {},
   "source": [
    "<h4>Fetch data from Hive structure</h4>"
   ]
  },
  {
   "cell_type": "code",
   "execution_count": 2,
   "id": "2e819ae4-884b-4fd0-89ba-372791225119",
   "metadata": {},
   "outputs": [],
   "source": [
    "bounds: Bounds = Bounds.for_days(date(2024, 1, 1), date(2024, 1, 2))\n",
    "# Expand bounds such that start and end of the daily interval will not have missing values\n",
    "expanded_bounds: Bounds = bounds.expand_bounds(lb_timedelta=timedelta(minutes=5), rb_timedelta=timedelta(minutes=5))\n",
    "\n",
    "df_ticks = (\n",
    "    pl.scan_parquet(r\"D:\\data\\transformed\\trades\")\n",
    "    .filter(\n",
    "        (pl.col(\"date\").is_between(expanded_bounds.day0, expanded_bounds.day1)) &\n",
    "        (pl.col(\"symbol\") == \"BTC-USDT\") &\n",
    "        (pl.col(\"trade_time\").is_between(expanded_bounds.start_inclusive, expanded_bounds.end_exclusive))\n",
    "    )\n",
    "    .collect()\n",
    ")"
   ]
  },
  {
   "cell_type": "code",
   "execution_count": 3,
   "id": "c8349446-3ebb-4b45-9542-a508c8b1c907",
   "metadata": {},
   "outputs": [],
   "source": [
    "date_index: pd.DatetimeIndex = pd.date_range(\n",
    "    bounds.start_inclusive, bounds.end_exclusive, freq=timedelta(milliseconds=500), inclusive=\"left\"\n",
    ")\n",
    "df_index: pl.DataFrame = pl.DataFrame({\"sampled_time\": date_index})"
   ]
  },
  {
   "cell_type": "markdown",
   "id": "7daa1a3d-bb92-46bd-afb6-942058f4c7a1",
   "metadata": {},
   "source": [
    "<h4>Make sure data is sorted by trade_time</h4>"
   ]
  },
  {
   "cell_type": "code",
   "execution_count": 4,
   "id": "3674319e-29d2-4fb2-affd-176c9741e7a4",
   "metadata": {},
   "outputs": [],
   "source": [
    "df_ticks = df_ticks.sort(by=\"trade_time\", descending=False)\n",
    "assert df_ticks[\"trade_time\"].is_sorted()"
   ]
  },
  {
   "cell_type": "code",
   "execution_count": 5,
   "id": "ff87df69-f1fe-49f8-a52b-584cabd674c9",
   "metadata": {},
   "outputs": [],
   "source": [
    "df_ticks = df_ticks.with_columns(\n",
    "    quote_abs=pl.col(\"price\") * pl.col(\"quantity\"),\n",
    "    side=1 - 2 * pl.col(\"is_buyer_maker\")  # -1 if SELL, 1 if BUY\n",
    ")\n",
    "df_ticks = df_ticks.with_columns(\n",
    "    quote_sign=pl.col(\"quote_abs\") * pl.col(\"side\"),\n",
    "    quantity_sign=pl.col(\"quantity\") * pl.col(\"side\")\n",
    ")"
   ]
  },
  {
   "cell_type": "markdown",
   "id": "277dc468-9c47-46d4-85bf-b211fa5caba3",
   "metadata": {},
   "source": [
    "<h4>Aggregate ticks into trades on trade_time</h4>"
   ]
  },
  {
   "cell_type": "code",
   "execution_count": 6,
   "id": "c22c44d6-6802-4cb3-b989-1d92de5e0f95",
   "metadata": {},
   "outputs": [
    {
     "data": {
      "text/html": [
       "<div><style>\n",
       ".dataframe > thead > tr,\n",
       ".dataframe > tbody > tr {\n",
       "  text-align: right;\n",
       "  white-space: pre-wrap;\n",
       "}\n",
       "</style>\n",
       "<small>shape: (551_126, 9)</small><table border=\"1\" class=\"dataframe\"><thead><tr><th>trade_time</th><th>price_first</th><th>price_last</th><th>quote_abs</th><th>quote_sign</th><th>quantity_sign</th><th>quantity_abs</th><th>num_ticks</th><th>is_long</th></tr><tr><td>datetime[ns]</td><td>f64</td><td>f64</td><td>f64</td><td>f64</td><td>f64</td><td>f64</td><td>u32</td><td>bool</td></tr></thead><tbody><tr><td>2024-01-01 00:00:00</td><td>42283.58</td><td>42283.58</td><td>29.17567</td><td>-29.17567</td><td>-0.00069</td><td>0.00069</td><td>1</td><td>false</td></tr><tr><td>2024-01-01 00:00:00.001</td><td>42283.59</td><td>42283.59</td><td>60.88837</td><td>60.88837</td><td>0.00144</td><td>0.00144</td><td>1</td><td>true</td></tr><tr><td>2024-01-01 00:00:00.003</td><td>42283.58</td><td>42283.59</td><td>135.730314</td><td>49.47181</td><td>0.00117</td><td>0.00321</td><td>2</td><td>true</td></tr><tr><td>2024-01-01 00:00:00.004</td><td>42283.59</td><td>42283.59</td><td>68.922252</td><td>68.922252</td><td>0.00163</td><td>0.00163</td><td>1</td><td>true</td></tr><tr><td>2024-01-01 00:00:00.005</td><td>42283.59</td><td>42283.59</td><td>178.43675</td><td>178.43675</td><td>0.00422</td><td>0.00422</td><td>2</td><td>true</td></tr><tr><td>&hellip;</td><td>&hellip;</td><td>&hellip;</td><td>&hellip;</td><td>&hellip;</td><td>&hellip;</td><td>&hellip;</td><td>&hellip;</td><td>&hellip;</td></tr><tr><td>2024-01-02 00:04:59.995</td><td>44264.26</td><td>44264.32</td><td>103.578437</td><td>103.578437</td><td>0.00234</td><td>0.00234</td><td>3</td><td>true</td></tr><tr><td>2024-01-02 00:04:59.996</td><td>44261.11</td><td>44264.33</td><td>176.166452</td><td>23.023011</td><td>0.00052</td><td>0.00398</td><td>3</td><td>true</td></tr><tr><td>2024-01-02 00:04:59.997</td><td>44264.33</td><td>44264.37</td><td>69.052372</td><td>69.052372</td><td>0.00156</td><td>0.00156</td><td>4</td><td>true</td></tr><tr><td>2024-01-02 00:04:59.998</td><td>44264.37</td><td>44261.11</td><td>24.344887</td><td>10.181332</td><td>0.00023</td><td>0.00055</td><td>4</td><td>true</td></tr><tr><td>2024-01-02 00:04:59.999</td><td>44261.11</td><td>44264.63</td><td>201.837744</td><td>-16.812139</td><td>-0.00038</td><td>0.00456</td><td>6</td><td>false</td></tr></tbody></table></div>"
      ],
      "text/plain": [
       "shape: (551_126, 9)\n",
       "┌────────────┬───────────┬───────────┬───────────┬───┬───────────┬───────────┬───────────┬─────────┐\n",
       "│ trade_time ┆ price_fir ┆ price_las ┆ quote_abs ┆ … ┆ quantity_ ┆ quantity_ ┆ num_ticks ┆ is_long │\n",
       "│ ---        ┆ st        ┆ t         ┆ ---       ┆   ┆ sign      ┆ abs       ┆ ---       ┆ ---     │\n",
       "│ datetime[n ┆ ---       ┆ ---       ┆ f64       ┆   ┆ ---       ┆ ---       ┆ u32       ┆ bool    │\n",
       "│ s]         ┆ f64       ┆ f64       ┆           ┆   ┆ f64       ┆ f64       ┆           ┆         │\n",
       "╞════════════╪═══════════╪═══════════╪═══════════╪═══╪═══════════╪═══════════╪═══════════╪═════════╡\n",
       "│ 2024-01-01 ┆ 42283.58  ┆ 42283.58  ┆ 29.17567  ┆ … ┆ -0.00069  ┆ 0.00069   ┆ 1         ┆ false   │\n",
       "│ 00:00:00   ┆           ┆           ┆           ┆   ┆           ┆           ┆           ┆         │\n",
       "│ 2024-01-01 ┆ 42283.59  ┆ 42283.59  ┆ 60.88837  ┆ … ┆ 0.00144   ┆ 0.00144   ┆ 1         ┆ true    │\n",
       "│ 00:00:00.0 ┆           ┆           ┆           ┆   ┆           ┆           ┆           ┆         │\n",
       "│ 01         ┆           ┆           ┆           ┆   ┆           ┆           ┆           ┆         │\n",
       "│ 2024-01-01 ┆ 42283.58  ┆ 42283.59  ┆ 135.73031 ┆ … ┆ 0.00117   ┆ 0.00321   ┆ 2         ┆ true    │\n",
       "│ 00:00:00.0 ┆           ┆           ┆ 4         ┆   ┆           ┆           ┆           ┆         │\n",
       "│ 03         ┆           ┆           ┆           ┆   ┆           ┆           ┆           ┆         │\n",
       "│ 2024-01-01 ┆ 42283.59  ┆ 42283.59  ┆ 68.922252 ┆ … ┆ 0.00163   ┆ 0.00163   ┆ 1         ┆ true    │\n",
       "│ 00:00:00.0 ┆           ┆           ┆           ┆   ┆           ┆           ┆           ┆         │\n",
       "│ 04         ┆           ┆           ┆           ┆   ┆           ┆           ┆           ┆         │\n",
       "│ 2024-01-01 ┆ 42283.59  ┆ 42283.59  ┆ 178.43675 ┆ … ┆ 0.00422   ┆ 0.00422   ┆ 2         ┆ true    │\n",
       "│ 00:00:00.0 ┆           ┆           ┆           ┆   ┆           ┆           ┆           ┆         │\n",
       "│ 05         ┆           ┆           ┆           ┆   ┆           ┆           ┆           ┆         │\n",
       "│ …          ┆ …         ┆ …         ┆ …         ┆ … ┆ …         ┆ …         ┆ …         ┆ …       │\n",
       "│ 2024-01-02 ┆ 44264.26  ┆ 44264.32  ┆ 103.57843 ┆ … ┆ 0.00234   ┆ 0.00234   ┆ 3         ┆ true    │\n",
       "│ 00:04:59.9 ┆           ┆           ┆ 7         ┆   ┆           ┆           ┆           ┆         │\n",
       "│ 95         ┆           ┆           ┆           ┆   ┆           ┆           ┆           ┆         │\n",
       "│ 2024-01-02 ┆ 44261.11  ┆ 44264.33  ┆ 176.16645 ┆ … ┆ 0.00052   ┆ 0.00398   ┆ 3         ┆ true    │\n",
       "│ 00:04:59.9 ┆           ┆           ┆ 2         ┆   ┆           ┆           ┆           ┆         │\n",
       "│ 96         ┆           ┆           ┆           ┆   ┆           ┆           ┆           ┆         │\n",
       "│ 2024-01-02 ┆ 44264.33  ┆ 44264.37  ┆ 69.052372 ┆ … ┆ 0.00156   ┆ 0.00156   ┆ 4         ┆ true    │\n",
       "│ 00:04:59.9 ┆           ┆           ┆           ┆   ┆           ┆           ┆           ┆         │\n",
       "│ 97         ┆           ┆           ┆           ┆   ┆           ┆           ┆           ┆         │\n",
       "│ 2024-01-02 ┆ 44264.37  ┆ 44261.11  ┆ 24.344887 ┆ … ┆ 0.00023   ┆ 0.00055   ┆ 4         ┆ true    │\n",
       "│ 00:04:59.9 ┆           ┆           ┆           ┆   ┆           ┆           ┆           ┆         │\n",
       "│ 98         ┆           ┆           ┆           ┆   ┆           ┆           ┆           ┆         │\n",
       "│ 2024-01-02 ┆ 44261.11  ┆ 44264.63  ┆ 201.83774 ┆ … ┆ -0.00038  ┆ 0.00456   ┆ 6         ┆ false   │\n",
       "│ 00:04:59.9 ┆           ┆           ┆ 4         ┆   ┆           ┆           ┆           ┆         │\n",
       "│ 99         ┆           ┆           ┆           ┆   ┆           ┆           ┆           ┆         │\n",
       "└────────────┴───────────┴───────────┴───────────┴───┴───────────┴───────────┴───────────┴─────────┘"
      ]
     },
     "execution_count": 6,
     "metadata": {},
     "output_type": "execute_result"
    }
   ],
   "source": [
    "df_ticks = df_ticks.sort(by=\"trade_time\", descending=False)\n",
    "\n",
    "df_trades: pl.DataFrame = (\n",
    "    df_ticks\n",
    "    .group_by(\"trade_time\", maintain_order=True)\n",
    "    .agg(\n",
    "        price_first=pl.col(\"price\").first(),  # if someone placed a trade with price impact, then price_first\n",
    "        price_last=pl.col(\"price\").last(),  # and price_last will differ\n",
    "        # Amount spent in quote asset for the trade\n",
    "        quote_abs=pl.col(\"quote_abs\").sum(),\n",
    "        quote_sign=pl.col(\"quote_sign\").sum(),\n",
    "        quantity_sign=pl.col(\"quantity_sign\").sum(),\n",
    "        # Amount of base asset transacted\n",
    "        quantity_abs=pl.col(\"quantity\").sum(),\n",
    "        num_ticks=pl.col(\"price\").count(),  # number of ticks for each trade\n",
    "    )\n",
    ")\n",
    "# Create boolean indicating if the trade was long or short\n",
    "df_trades = df_trades.with_columns(\n",
    "    (pl.col(\"quote_sign\") >= 0).alias(\"is_long\")\n",
    ")\n",
    "\n",
    "df_trades"
   ]
  },
  {
   "cell_type": "code",
   "execution_count": 7,
   "id": "51f13b47-5eea-4cd9-9168-138349cb4c55",
   "metadata": {},
   "outputs": [],
   "source": [
    "# compute slippage\n",
    "df_trades = df_trades.with_columns(\n",
    "    quote_slippage_abs=(pl.col(\"quote_abs\") - pl.col(\"price_first\") * pl.col(\"quantity_abs\")).abs()\n",
    ")\n",
    "df_trades = df_trades.with_columns(\n",
    "    quote_slippage_sign=pl.col(\"quote_slippage_abs\") * pl.col(\"quantity_sign\").sign()\n",
    ")"
   ]
  },
  {
   "cell_type": "code",
   "execution_count": 15,
   "id": "a25b8647-7a2a-460e-a8e0-1fa121602846",
   "metadata": {},
   "outputs": [
    {
     "data": {
      "text/html": [
       "<div><style>\n",
       ".dataframe > thead > tr,\n",
       ".dataframe > tbody > tr {\n",
       "  text-align: right;\n",
       "  white-space: pre-wrap;\n",
       "}\n",
       "</style>\n",
       "<small>shape: (5, 13)</small><table border=\"1\" class=\"dataframe\"><thead><tr><th>trade_time</th><th>price_first</th><th>price_last</th><th>quote_abs</th><th>quote_sign</th><th>quantity_sign</th><th>quantity_abs</th><th>num_ticks</th><th>is_long</th><th>quote_slippage_abs</th><th>quote_slippage_sign</th><th>price_last_prev</th><th>trade_time_prev</th></tr><tr><td>datetime[ns]</td><td>f64</td><td>f64</td><td>f64</td><td>f64</td><td>f64</td><td>f64</td><td>u32</td><td>bool</td><td>f64</td><td>f64</td><td>f64</td><td>datetime[ns]</td></tr></thead><tbody><tr><td>2024-01-01 00:00:00</td><td>42283.58</td><td>42283.58</td><td>29.17567</td><td>-29.17567</td><td>-0.00069</td><td>0.00069</td><td>1</td><td>false</td><td>0.0</td><td>-0.0</td><td>null</td><td>null</td></tr><tr><td>2024-01-01 00:00:00.001</td><td>42283.59</td><td>42283.59</td><td>60.88837</td><td>60.88837</td><td>0.00144</td><td>0.00144</td><td>1</td><td>true</td><td>0.0</td><td>0.0</td><td>42283.58</td><td>2024-01-01 00:00:00</td></tr><tr><td>2024-01-01 00:00:00.003</td><td>42283.58</td><td>42283.59</td><td>135.730314</td><td>49.47181</td><td>0.00117</td><td>0.00321</td><td>2</td><td>true</td><td>0.000022</td><td>0.000022</td><td>42283.59</td><td>2024-01-01 00:00:00.001</td></tr><tr><td>2024-01-01 00:00:00.004</td><td>42283.59</td><td>42283.59</td><td>68.922252</td><td>68.922252</td><td>0.00163</td><td>0.00163</td><td>1</td><td>true</td><td>0.0</td><td>0.0</td><td>42283.59</td><td>2024-01-01 00:00:00.003</td></tr><tr><td>2024-01-01 00:00:00.005</td><td>42283.59</td><td>42283.59</td><td>178.43675</td><td>178.43675</td><td>0.00422</td><td>0.00422</td><td>2</td><td>true</td><td>0.0</td><td>0.0</td><td>42283.59</td><td>2024-01-01 00:00:00.004</td></tr></tbody></table></div>"
      ],
      "text/plain": [
       "shape: (5, 13)\n",
       "┌───────────┬───────────┬───────────┬───────────┬───┬───────────┬───────────┬───────────┬──────────┐\n",
       "│ trade_tim ┆ price_fir ┆ price_las ┆ quote_abs ┆ … ┆ quote_sli ┆ quote_sli ┆ price_las ┆ trade_ti │\n",
       "│ e         ┆ st        ┆ t         ┆ ---       ┆   ┆ ppage_abs ┆ ppage_sig ┆ t_prev    ┆ me_prev  │\n",
       "│ ---       ┆ ---       ┆ ---       ┆ f64       ┆   ┆ ---       ┆ n         ┆ ---       ┆ ---      │\n",
       "│ datetime[ ┆ f64       ┆ f64       ┆           ┆   ┆ f64       ┆ ---       ┆ f64       ┆ datetime │\n",
       "│ ns]       ┆           ┆           ┆           ┆   ┆           ┆ f64       ┆           ┆ [ns]     │\n",
       "╞═══════════╪═══════════╪═══════════╪═══════════╪═══╪═══════════╪═══════════╪═══════════╪══════════╡\n",
       "│ 2024-01-0 ┆ 42283.58  ┆ 42283.58  ┆ 29.17567  ┆ … ┆ 0.0       ┆ -0.0      ┆ null      ┆ null     │\n",
       "│ 1         ┆           ┆           ┆           ┆   ┆           ┆           ┆           ┆          │\n",
       "│ 00:00:00  ┆           ┆           ┆           ┆   ┆           ┆           ┆           ┆          │\n",
       "│ 2024-01-0 ┆ 42283.59  ┆ 42283.59  ┆ 60.88837  ┆ … ┆ 0.0       ┆ 0.0       ┆ 42283.58  ┆ 2024-01- │\n",
       "│ 1 00:00:0 ┆           ┆           ┆           ┆   ┆           ┆           ┆           ┆ 01       │\n",
       "│ 0.001     ┆           ┆           ┆           ┆   ┆           ┆           ┆           ┆ 00:00:00 │\n",
       "│ 2024-01-0 ┆ 42283.58  ┆ 42283.59  ┆ 135.73031 ┆ … ┆ 0.000022  ┆ 0.000022  ┆ 42283.59  ┆ 2024-01- │\n",
       "│ 1 00:00:0 ┆           ┆           ┆ 4         ┆   ┆           ┆           ┆           ┆ 01 00:00 │\n",
       "│ 0.003     ┆           ┆           ┆           ┆   ┆           ┆           ┆           ┆ :00.001  │\n",
       "│ 2024-01-0 ┆ 42283.59  ┆ 42283.59  ┆ 68.922252 ┆ … ┆ 0.0       ┆ 0.0       ┆ 42283.59  ┆ 2024-01- │\n",
       "│ 1 00:00:0 ┆           ┆           ┆           ┆   ┆           ┆           ┆           ┆ 01 00:00 │\n",
       "│ 0.004     ┆           ┆           ┆           ┆   ┆           ┆           ┆           ┆ :00.003  │\n",
       "│ 2024-01-0 ┆ 42283.59  ┆ 42283.59  ┆ 178.43675 ┆ … ┆ 0.0       ┆ 0.0       ┆ 42283.59  ┆ 2024-01- │\n",
       "│ 1 00:00:0 ┆           ┆           ┆           ┆   ┆           ┆           ┆           ┆ 01 00:00 │\n",
       "│ 0.005     ┆           ┆           ┆           ┆   ┆           ┆           ┆           ┆ :00.004  │\n",
       "└───────────┴───────────┴───────────┴───────────┴───┴───────────┴───────────┴───────────┴──────────┘"
      ]
     },
     "execution_count": 15,
     "metadata": {},
     "output_type": "execute_result"
    }
   ],
   "source": [
    "df_trades = df_trades.with_columns(\n",
    "    price_last_prev=pl.col(\"price_last\").shift(1),\n",
    "    trade_time_prev=pl.col(\"trade_time\").shift(1)\n",
    ")\n",
    "\n",
    "df_trades.head()"
   ]
  },
  {
   "cell_type": "code",
   "execution_count": 22,
   "id": "84a9ff3a-573b-4df4-bac2-e9dc593d5f7d",
   "metadata": {},
   "outputs": [
    {
     "data": {
      "text/html": [
       "<div><style>\n",
       ".dataframe > thead > tr,\n",
       ".dataframe > tbody > tr {\n",
       "  text-align: right;\n",
       "  white-space: pre-wrap;\n",
       "}\n",
       "</style>\n",
       "<small>shape: (140_045, 2)</small><table border=\"1\" class=\"dataframe\"><thead><tr><th>trade_time</th><th>price_last</th></tr><tr><td>datetime[ns]</td><td>f64</td></tr></thead><tbody><tr><td>2024-01-01 00:00:00</td><td>null</td></tr><tr><td>2024-01-01 00:00:00.500</td><td>0.005045</td></tr><tr><td>2024-01-01 00:00:01</td><td>0.007071</td></tr><tr><td>2024-01-01 00:00:01.500</td><td>0.003807</td></tr><tr><td>2024-01-01 00:00:02</td><td>0.004577</td></tr><tr><td>&hellip;</td><td>&hellip;</td></tr><tr><td>2024-01-02 00:04:58</td><td>0.005164</td></tr><tr><td>2024-01-02 00:04:58.500</td><td>0.005345</td></tr><tr><td>2024-01-02 00:04:59</td><td>0.0</td></tr><tr><td>2024-01-02 00:04:59.500</td><td>0.572018</td></tr><tr><td>2024-01-02 00:05:00</td><td>4.26754</td></tr></tbody></table></div>"
      ],
      "text/plain": [
       "shape: (140_045, 2)\n",
       "┌─────────────────────────┬────────────┐\n",
       "│ trade_time              ┆ price_last │\n",
       "│ ---                     ┆ ---        │\n",
       "│ datetime[ns]            ┆ f64        │\n",
       "╞═════════════════════════╪════════════╡\n",
       "│ 2024-01-01 00:00:00     ┆ null       │\n",
       "│ 2024-01-01 00:00:00.500 ┆ 0.005045   │\n",
       "│ 2024-01-01 00:00:01     ┆ 0.007071   │\n",
       "│ 2024-01-01 00:00:01.500 ┆ 0.003807   │\n",
       "│ 2024-01-01 00:00:02     ┆ 0.004577   │\n",
       "│ …                       ┆ …          │\n",
       "│ 2024-01-02 00:04:58     ┆ 0.005164   │\n",
       "│ 2024-01-02 00:04:58.500 ┆ 0.005345   │\n",
       "│ 2024-01-02 00:04:59     ┆ 0.0        │\n",
       "│ 2024-01-02 00:04:59.500 ┆ 0.572018   │\n",
       "│ 2024-01-02 00:05:00     ┆ 4.26754    │\n",
       "└─────────────────────────┴────────────┘"
      ]
     },
     "execution_count": 22,
     "metadata": {},
     "output_type": "execute_result"
    }
   ],
   "source": [
    "(\n",
    "    df_trades\n",
    "    .group_by_dynamic(\n",
    "        index_column=\"trade_time\",\n",
    "        every=timedelta(milliseconds=500),\n",
    "        period=timedelta(milliseconds=500),\n",
    "        closed=\"right\",\n",
    "        label=\"right\"\n",
    "    )\n",
    "    .agg(\n",
    "        pl.col(\"price_last\").std()\n",
    "    )\n",
    ")"
   ]
  },
  {
   "cell_type": "markdown",
   "id": "f1c71ec4-79e4-489d-b601-59fa39c7329d",
   "metadata": {},
   "source": [
    "<h4>Add lags of time and price will help when resampling</h4>"
   ]
  },
  {
   "cell_type": "code",
   "execution_count": 65,
   "id": "7ced2c7b-2301-4aa6-8faf-1cdc23402954",
   "metadata": {},
   "outputs": [],
   "source": [
    "sampled_features: pl.DataFrame = (\n",
    "    df_trades\n",
    "    .group_by_dynamic(\n",
    "        index_column=\"trade_time\",\n",
    "        every=timedelta(milliseconds=500),\n",
    "        period=timedelta(milliseconds=1000),\n",
    "        closed=\"right\",\n",
    "        label=\"right\",\n",
    "        include_boundaries=True\n",
    "    )\n",
    "    .agg(\n",
    "        asset_return=(pl.col(\"price_last\").last() / pl.col(\"price_last_prev\").first() - 1) * 1e4,\n",
    "        asset_hold_time=(pl.col(\"trade_time\").last() - pl.col(\"trade_time_prev\").first()).dt.total_nanoseconds() / 1e9,\n",
    "        flow_imbalance=pl.col(\"quote_sign\").sum() / pl.col(\"quote_abs\").sum(),\n",
    "        slippage_imbalance=pl.col(\"quote_slippage_sign\").sum() / pl.col(\"quote_slippage_abs\").sum(),\n",
    "        powerlaw_alpha=1 + pl.len() / (pl.col(\"quote_abs\") / pl.col(\"quote_abs\").min()).log().sum(),\n",
    "        share_of_longs=pl.col(\"is_long\").sum() / pl.len(),\n",
    "        sigma=pl.col(\"price_last\").std(),\n",
    "        close_price=pl.col(\"price_last\").last()\n",
    "    )\n",
    "    .filter(\n",
    "        pl.col(\"trade_time\").is_between(bounds.start_inclusive, bounds.end_exclusive)\n",
    "    )\n",
    ")\n",
    "\n",
    "sampled_features = (\n",
    "    df_index\n",
    "    .join(sampled_features, left_on=\"sampled_time\", right_on=\"trade_time\", how=\"left\")\n",
    "    .with_columns(\n",
    "        # Post process some features\n",
    "        # 1. fillnans in asset_return with 0\n",
    "        asset_return=pl.col(\"asset_return\").fill_null(0),\n",
    "        asset_return_adj=pl.col(\"asset_return\") * (\n",
    "                timedelta(milliseconds=500).total_seconds() / pl.col(\"asset_hold_time\")),\n",
    "        # 2. forward fill close_price\n",
    "        close_price=pl.col(\"close_price\").forward_fill()\n",
    "    )\n",
    ")"
   ]
  },
  {
   "cell_type": "code",
   "execution_count": 66,
   "id": "7076d209-6613-41ed-b485-5ae31c827894",
   "metadata": {},
   "outputs": [
    {
     "data": {
      "text/plain": [
       "sampled_time               0\n",
       "_lower_boundary         8881\n",
       "_upper_boundary         8881\n",
       "asset_return               0\n",
       "asset_hold_time         8882\n",
       "flow_imbalance          8881\n",
       "slippage_imbalance    122557\n",
       "powerlaw_alpha          8881\n",
       "share_of_longs          8881\n",
       "sigma                  28506\n",
       "close_price                1\n",
       "asset_return_adj        8882\n",
       "dtype: int64"
      ]
     },
     "execution_count": 66,
     "metadata": {},
     "output_type": "execute_result"
    }
   ],
   "source": [
    "sampled_features.to_pandas().isna().sum()"
   ]
  },
  {
   "cell_type": "code",
   "execution_count": 31,
   "id": "c5ea99d5-9076-4a8b-8ffb-553a8f488d83",
   "metadata": {},
   "outputs": [
    {
     "data": {
      "text/plain": [
       "<Axes: >"
      ]
     },
     "execution_count": 31,
     "metadata": {},
     "output_type": "execute_result"
    },
    {
     "data": {
      "image/png": "[encoded data removed]",
      "text/plain": [
       "<Figure size 640x480 with 1 Axes>"
      ]
     },
     "metadata": {},
     "output_type": "display_data"
    }
   ],
   "source": [
    "sampled_features.to_pandas()[\"asset_return_adj\"].hist(bins=100)"
   ]
  },
  {
   "cell_type": "code",
   "execution_count": 32,
   "id": "2c3c034b-c9ec-42ee-81c9-7b49270eca55",
   "metadata": {},
   "outputs": [
    {
     "data": {
      "text/plain": [
       "count    139447.000000\n",
       "mean          0.002617\n",
       "std           0.344133\n",
       "min         -17.136150\n",
       "25%          -0.001025\n",
       "50%           0.000000\n",
       "75%           0.001090\n",
       "max          20.463659\n",
       "Name: asset_return_adj, dtype: float64"
      ]
     },
     "execution_count": 32,
     "metadata": {},
     "output_type": "execute_result"
    }
   ],
   "source": [
    "sampled_features.to_pandas()[\"asset_return_adj\"].describe()"
   ]
  },
  {
   "cell_type": "code",
   "execution_count": null,
   "id": "9dae541e-143b-4478-87bd-8fdcc303480e",
   "metadata": {},
   "outputs": [],
   "source": [
    "cols = [\n",
    "    \"asset_return\",\n",
    "    \"asset_hold_time\",\n",
    "    \"flow_imbalance\",\n",
    "    \"slippage_imbalance\",\n",
    "    \"powerlaw_alpha\",\n",
    "    \"share_of_longs\"\n",
    "]"
   ]
  },
  {
   "cell_type": "markdown",
   "id": "27bcd689-a231-4d6c-b411-0afdea2f84ea",
   "metadata": {},
   "source": [
    "<h4>Validate that everything is computed correctly</h4>"
   ]
  },
  {
   "cell_type": "code",
   "execution_count": null,
   "id": "e3790d64-7c73-49bb-bd19-daa89fb5ac29",
   "metadata": {},
   "outputs": [],
   "source": [
    "from core.paths import FEATURE_DIR\n",
    "from core.time_utils import Bounds\n",
    "from datetime import date\n",
    "from feature_writer.utils import to_wide_format\n",
    "from core.currency_pair import CurrencyPair\n",
    "\n",
    "import polars as pl\n",
    "\n",
    "hive: pl.LazyFrame = pl.scan_parquet(FEATURE_DIR)\n",
    "bounds: Bounds = Bounds.for_days(\n",
    "    date(2024, 1, 1), date(2024, 1, 4)\n",
    ")\n",
    "\n",
    "data = hive.filter(\n",
    "    (pl.col(\"currency_pair\") == CurrencyPair.from_string(\"BTC-USDT\").name) &\n",
    "    (pl.col(\"date\").is_between(bounds.day0, bounds.day1))\n",
    ").collect()"
   ]
  },
  {
   "cell_type": "code",
   "execution_count": null,
   "id": "eee21bc1-ea0d-4db2-be3c-878374819a9c",
   "metadata": {},
   "outputs": [],
   "source": [
    "to_wide_format(data)"
   ]
  }
 ],
 "metadata": {
  "kernelspec": {
   "display_name": "Python 3 (ipykernel)",
   "language": "python",
   "name": "python3"
  },
  "language_info": {
   "codemirror_mode": {
    "name": "ipython",
    "version": 3
   },
   "file_extension": ".py",
   "mimetype": "text/x-python",
   "name": "python",
   "nbconvert_exporter": "python",
   "pygments_lexer": "ipython3",
   "version": "3.12.4"
  }
 },
 "nbformat": 4,
 "nbformat_minor": 5
}
