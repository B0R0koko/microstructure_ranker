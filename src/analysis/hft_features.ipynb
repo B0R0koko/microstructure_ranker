{
 "cells": [
  {
   "cell_type": "code",
   "execution_count": 1,
   "id": "initial_id",
   "metadata": {
    "ExecuteTime": {
     "end_time": "2025-05-15T20:18:10.523649Z",
     "start_time": "2025-05-15T20:18:10.510452Z"
    }
   },
   "outputs": [],
   "source": [
    "from typing import *\n",
    "from datetime import datetime, timedelta, date\n",
    "from core.time_utils import Bounds\n",
    "from tqdm import tqdm\n",
    "\n",
    "import pandas as pd\n",
    "import seaborn as sns\n",
    "import matplotlib.pyplot as plt\n",
    "import warnings\n",
    "import numpy as np\n",
    "import polars as pl\n",
    "\n",
    "warnings.simplefilter(\"ignore\")"
   ]
  },
  {
   "cell_type": "markdown",
   "id": "1c8a1f96-0bc0-4eba-b5bf-9167b2210f28",
   "metadata": {},
   "source": [
    "<p>In this notebook we will validate that everything was calculated correctly</p>"
   ]
  },
  {
   "cell_type": "markdown",
   "id": "06609931-fdc5-4fa9-9466-36db46130423",
   "metadata": {},
   "source": [
    "<h4>Fetch data from Hive structure</h4>"
   ]
  },
  {
   "cell_type": "code",
   "execution_count": 3,
   "id": "2e819ae4-884b-4fd0-89ba-372791225119",
   "metadata": {},
   "outputs": [],
   "source": [
    "bounds: Bounds = Bounds.for_days(date(2025, 1, 1), date(2025, 1, 2))\n",
    "# Expand bounds such that start and end of the daily interval will not have missing values\n",
    "expanded_bounds: Bounds = bounds.expand_bounds(lb_timedelta=timedelta(minutes=5), rb_timedelta=timedelta(minutes=5))\n",
    "\n",
    "df_ticks = (\n",
    "    pl.scan_parquet(r\"D:\\data\\transformed\\trades\")\n",
    "    .filter(\n",
    "        (pl.col(\"date\").is_between(expanded_bounds.day0, expanded_bounds.day1)) & \n",
    "        (pl.col(\"symbol\") == \"BTC-USDT\") &\n",
    "        (pl.col(\"trade_time\").is_between(expanded_bounds.start_inclusive, expanded_bounds.end_exclusive))\n",
    "    )\n",
    "    .collect()\n",
    ")"
   ]
  },
  {
   "cell_type": "code",
   "execution_count": 4,
   "id": "12eceb0f-9d25-4016-95d5-512d122a35ef",
   "metadata": {},
   "outputs": [
    {
     "name": "stdout",
     "output_type": "stream",
     "text": [
      "Bounds: 2024-12-31 23:55:00 - 2025-01-02 00:04:59.999999\n"
     ]
    }
   ],
   "source": [
    "print(expanded_bounds)"
   ]
  },
  {
   "cell_type": "markdown",
   "id": "7daa1a3d-bb92-46bd-afb6-942058f4c7a1",
   "metadata": {},
   "source": [
    "<h4>Make sure data is sorted by trade_time</h4>"
   ]
  },
  {
   "cell_type": "code",
   "execution_count": 5,
   "id": "3674319e-29d2-4fb2-affd-176c9741e7a4",
   "metadata": {},
   "outputs": [],
   "source": [
    "df_ticks = df_ticks.sort(by=\"trade_time\", descending=False)\n",
    "assert df_ticks[\"trade_time\"].is_sorted()"
   ]
  },
  {
   "cell_type": "code",
   "execution_count": 6,
   "id": "ff87df69-f1fe-49f8-a52b-584cabd674c9",
   "metadata": {},
   "outputs": [],
   "source": [
    "df_ticks = df_ticks.with_columns(\n",
    "    quote_abs=pl.col(\"price\") * pl.col(\"quantity\"),\n",
    "    side=1 - 2 * pl.col(\"is_buyer_maker\")  # -1 if SELL, 1 if BUY\n",
    ")\n",
    "df_ticks = df_ticks.with_columns(\n",
    "    quote_sign=pl.col(\"quote_abs\") * pl.col(\"side\"),\n",
    "    quantity_sign=pl.col(\"quantity\") * pl.col(\"side\")\n",
    ")"
   ]
  },
  {
   "cell_type": "markdown",
   "id": "277dc468-9c47-46d4-85bf-b211fa5caba3",
   "metadata": {},
   "source": [
    "<h4>Aggregate ticks into trades on trade_time</h4>"
   ]
  },
  {
   "cell_type": "code",
   "execution_count": 7,
   "id": "c22c44d6-6802-4cb3-b989-1d92de5e0f95",
   "metadata": {},
   "outputs": [
    {
     "data": {
      "text/html": [
       "<div><style>\n",
       ".dataframe > thead > tr,\n",
       ".dataframe > tbody > tr {\n",
       "  text-align: right;\n",
       "  white-space: pre-wrap;\n",
       "}\n",
       "</style>\n",
       "<small>shape: (359_755, 9)</small><table border=\"1\" class=\"dataframe\"><thead><tr><th>trade_time</th><th>price_first</th><th>price_last</th><th>quote_abs</th><th>quote_sign</th><th>quantity_sign</th><th>quantity_abs</th><th>num_ticks</th><th>is_long</th></tr><tr><td>datetime[ns]</td><td>f64</td><td>f64</td><td>f64</td><td>f64</td><td>f64</td><td>f64</td><td>u32</td><td>bool</td></tr></thead><tbody><tr><td>2024-12-31 23:55:00.041</td><td>93646.97</td><td>93646.97</td><td>65.552879</td><td>65.552879</td><td>0.0007</td><td>0.0007</td><td>1</td><td>true</td></tr><tr><td>2024-12-31 23:55:00.410</td><td>93646.97</td><td>93646.97</td><td>66.489349</td><td>66.489349</td><td>0.00071</td><td>0.00071</td><td>1</td><td>true</td></tr><tr><td>2024-12-31 23:55:00.975</td><td>93646.96</td><td>93646.96</td><td>320.272603</td><td>-320.272603</td><td>-0.00342</td><td>0.00342</td><td>1</td><td>false</td></tr><tr><td>2024-12-31 23:55:01.336</td><td>93646.97</td><td>93646.97</td><td>14.047045</td><td>14.047045</td><td>0.00015</td><td>0.00015</td><td>1</td><td>true</td></tr><tr><td>2024-12-31 23:55:02.135</td><td>93646.97</td><td>93646.97</td><td>999.21317</td><td>999.21317</td><td>0.01067</td><td>0.01067</td><td>1</td><td>true</td></tr><tr><td>&hellip;</td><td>&hellip;</td><td>&hellip;</td><td>&hellip;</td><td>&hellip;</td><td>&hellip;</td><td>&hellip;</td><td>&hellip;</td><td>&hellip;</td></tr><tr><td>2025-01-02 00:04:59.858464</td><td>94474.14</td><td>94474.14</td><td>86.916209</td><td>86.916209</td><td>0.00092</td><td>0.00092</td><td>1</td><td>true</td></tr><tr><td>2025-01-02 00:04:59.866049</td><td>94474.14</td><td>94474.14</td><td>86.916209</td><td>86.916209</td><td>0.00092</td><td>0.00092</td><td>1</td><td>true</td></tr><tr><td>2025-01-02 00:04:59.871885</td><td>94474.14</td><td>94474.14</td><td>86.916209</td><td>86.916209</td><td>0.00092</td><td>0.00092</td><td>1</td><td>true</td></tr><tr><td>2025-01-02 00:04:59.909962</td><td>94474.13</td><td>94473.3</td><td>34.010528</td><td>-34.010528</td><td>-0.00036</td><td>0.00036</td><td>6</td><td>false</td></tr><tr><td>2025-01-02 00:04:59.985426</td><td>94472.98</td><td>94472.98</td><td>9.447298</td><td>9.447298</td><td>0.0001</td><td>0.0001</td><td>1</td><td>true</td></tr></tbody></table></div>"
      ],
      "text/plain": [
       "shape: (359_755, 9)\n",
       "┌────────────┬───────────┬───────────┬───────────┬───┬───────────┬───────────┬───────────┬─────────┐\n",
       "│ trade_time ┆ price_fir ┆ price_las ┆ quote_abs ┆ … ┆ quantity_ ┆ quantity_ ┆ num_ticks ┆ is_long │\n",
       "│ ---        ┆ st        ┆ t         ┆ ---       ┆   ┆ sign      ┆ abs       ┆ ---       ┆ ---     │\n",
       "│ datetime[n ┆ ---       ┆ ---       ┆ f64       ┆   ┆ ---       ┆ ---       ┆ u32       ┆ bool    │\n",
       "│ s]         ┆ f64       ┆ f64       ┆           ┆   ┆ f64       ┆ f64       ┆           ┆         │\n",
       "╞════════════╪═══════════╪═══════════╪═══════════╪═══╪═══════════╪═══════════╪═══════════╪═════════╡\n",
       "│ 2024-12-31 ┆ 93646.97  ┆ 93646.97  ┆ 65.552879 ┆ … ┆ 0.0007    ┆ 0.0007    ┆ 1         ┆ true    │\n",
       "│ 23:55:00.0 ┆           ┆           ┆           ┆   ┆           ┆           ┆           ┆         │\n",
       "│ 41         ┆           ┆           ┆           ┆   ┆           ┆           ┆           ┆         │\n",
       "│ 2024-12-31 ┆ 93646.97  ┆ 93646.97  ┆ 66.489349 ┆ … ┆ 0.00071   ┆ 0.00071   ┆ 1         ┆ true    │\n",
       "│ 23:55:00.4 ┆           ┆           ┆           ┆   ┆           ┆           ┆           ┆         │\n",
       "│ 10         ┆           ┆           ┆           ┆   ┆           ┆           ┆           ┆         │\n",
       "│ 2024-12-31 ┆ 93646.96  ┆ 93646.96  ┆ 320.27260 ┆ … ┆ -0.00342  ┆ 0.00342   ┆ 1         ┆ false   │\n",
       "│ 23:55:00.9 ┆           ┆           ┆ 3         ┆   ┆           ┆           ┆           ┆         │\n",
       "│ 75         ┆           ┆           ┆           ┆   ┆           ┆           ┆           ┆         │\n",
       "│ 2024-12-31 ┆ 93646.97  ┆ 93646.97  ┆ 14.047045 ┆ … ┆ 0.00015   ┆ 0.00015   ┆ 1         ┆ true    │\n",
       "│ 23:55:01.3 ┆           ┆           ┆           ┆   ┆           ┆           ┆           ┆         │\n",
       "│ 36         ┆           ┆           ┆           ┆   ┆           ┆           ┆           ┆         │\n",
       "│ 2024-12-31 ┆ 93646.97  ┆ 93646.97  ┆ 999.21317 ┆ … ┆ 0.01067   ┆ 0.01067   ┆ 1         ┆ true    │\n",
       "│ 23:55:02.1 ┆           ┆           ┆           ┆   ┆           ┆           ┆           ┆         │\n",
       "│ 35         ┆           ┆           ┆           ┆   ┆           ┆           ┆           ┆         │\n",
       "│ …          ┆ …         ┆ …         ┆ …         ┆ … ┆ …         ┆ …         ┆ …         ┆ …       │\n",
       "│ 2025-01-02 ┆ 94474.14  ┆ 94474.14  ┆ 86.916209 ┆ … ┆ 0.00092   ┆ 0.00092   ┆ 1         ┆ true    │\n",
       "│ 00:04:59.8 ┆           ┆           ┆           ┆   ┆           ┆           ┆           ┆         │\n",
       "│ 58464      ┆           ┆           ┆           ┆   ┆           ┆           ┆           ┆         │\n",
       "│ 2025-01-02 ┆ 94474.14  ┆ 94474.14  ┆ 86.916209 ┆ … ┆ 0.00092   ┆ 0.00092   ┆ 1         ┆ true    │\n",
       "│ 00:04:59.8 ┆           ┆           ┆           ┆   ┆           ┆           ┆           ┆         │\n",
       "│ 66049      ┆           ┆           ┆           ┆   ┆           ┆           ┆           ┆         │\n",
       "│ 2025-01-02 ┆ 94474.14  ┆ 94474.14  ┆ 86.916209 ┆ … ┆ 0.00092   ┆ 0.00092   ┆ 1         ┆ true    │\n",
       "│ 00:04:59.8 ┆           ┆           ┆           ┆   ┆           ┆           ┆           ┆         │\n",
       "│ 71885      ┆           ┆           ┆           ┆   ┆           ┆           ┆           ┆         │\n",
       "│ 2025-01-02 ┆ 94474.13  ┆ 94473.3   ┆ 34.010528 ┆ … ┆ -0.00036  ┆ 0.00036   ┆ 6         ┆ false   │\n",
       "│ 00:04:59.9 ┆           ┆           ┆           ┆   ┆           ┆           ┆           ┆         │\n",
       "│ 09962      ┆           ┆           ┆           ┆   ┆           ┆           ┆           ┆         │\n",
       "│ 2025-01-02 ┆ 94472.98  ┆ 94472.98  ┆ 9.447298  ┆ … ┆ 0.0001    ┆ 0.0001    ┆ 1         ┆ true    │\n",
       "│ 00:04:59.9 ┆           ┆           ┆           ┆   ┆           ┆           ┆           ┆         │\n",
       "│ 85426      ┆           ┆           ┆           ┆   ┆           ┆           ┆           ┆         │\n",
       "└────────────┴───────────┴───────────┴───────────┴───┴───────────┴───────────┴───────────┴─────────┘"
      ]
     },
     "execution_count": 7,
     "metadata": {},
     "output_type": "execute_result"
    }
   ],
   "source": [
    "df_ticks = df_ticks.sort(by=\"trade_time\", descending=False)\n",
    "\n",
    "df_trades: pl.DataFrame = (\n",
    "    df_ticks\n",
    "    .group_by(\"trade_time\", maintain_order=True)\n",
    "    .agg(\n",
    "        price_first=pl.col(\"price\").first(),  # if someone placed a trade with price impact, then price_first\n",
    "        price_last=pl.col(\"price\").last(),  # and price_last will differ\n",
    "        # Amount spent in quote asset for the trade\n",
    "        quote_abs=pl.col(\"quote_abs\").sum(),\n",
    "        quote_sign=pl.col(\"quote_sign\").sum(),\n",
    "        quantity_sign=pl.col(\"quantity_sign\").sum(),\n",
    "        # Amount of base asset transacted\n",
    "        quantity_abs=pl.col(\"quantity\").sum(),\n",
    "        num_ticks=pl.col(\"price\").count(),  # number of ticks for each trade\n",
    "    )\n",
    ")\n",
    "# Create boolean indicating if the trade was long or short\n",
    "df_trades = df_trades.with_columns(\n",
    "    (pl.col(\"quote_sign\") >= 0).alias(\"is_long\")\n",
    ")\n",
    "\n",
    "df_trades"
   ]
  },
  {
   "cell_type": "code",
   "execution_count": 8,
   "id": "51f13b47-5eea-4cd9-9168-138349cb4c55",
   "metadata": {},
   "outputs": [],
   "source": [
    "# compute slippage\n",
    "df_trades = df_trades.with_columns(\n",
    "    quote_slippage_abs=(pl.col(\"quote_abs\") - pl.col(\"price_first\") * pl.col(\"quantity_abs\")).abs()\n",
    ")\n",
    "df_trades = df_trades.with_columns(\n",
    "    quote_slippage_sign=pl.col(\"quote_slippage_abs\") * pl.col(\"quantity_sign\").sign()\n",
    ")"
   ]
  },
  {
   "cell_type": "markdown",
   "id": "f1c71ec4-79e4-489d-b601-59fa39c7329d",
   "metadata": {},
   "source": [
    "<h4>Add lags of time and price will help when resampling</h4>"
   ]
  },
  {
   "cell_type": "code",
   "execution_count": 9,
   "id": "ee06e1c1-2e03-407a-9daa-fb6c466f7c29",
   "metadata": {},
   "outputs": [],
   "source": [
    "df_trades = df_trades.with_columns(\n",
    "    price_last_lag=pl.col(\"price_last\").shift(1),\n",
    "    trade_time_lag=pl.col(\"trade_time\").shift(1),\n",
    "    price_first_neg_lag=pl.col(\"price_first\").shift(-1),\n",
    "    trade_time_neg_lag=pl.col(\"trade_time\").shift(-1)\n",
    ")"
   ]
  },
  {
   "cell_type": "code",
   "execution_count": 13,
   "id": "7ced2c7b-2301-4aa6-8faf-1cdc23402954",
   "metadata": {},
   "outputs": [],
   "source": [
    "sampled_features: pl.DataFrame = (\n",
    "    df_trades\n",
    "    .group_by_dynamic(\n",
    "        index_column=\"trade_time\", \n",
    "        every=timedelta(milliseconds=500),\n",
    "        period=timedelta(seconds=5),\n",
    "        closed=\"right\",\n",
    "        label=\"right\",\n",
    "        include_boundaries=True\n",
    "    )\n",
    "    .agg(\n",
    "        asset_return=(pl.col(\"price_first_neg_lag\").last() / pl.col(\"price_last_lag\").first() - 1) * 1e4,\n",
    "        asset_hold_time=(pl.col(\"trade_time_neg_lag\").last() - pl.col(\"trade_time_lag\").first()).dt.total_nanoseconds() / 1e9,\n",
    "        flow_imbalance=pl.col(\"quote_sign\").sum() / pl.col(\"quote_abs\").sum(),\n",
    "        slippage_imbalance=pl.col(\"quote_slippage_sign\").sum() / pl.col(\"quote_slippage_abs\").sum(),\n",
    "        powerlaw_alpha= 1 + pl.len() / (pl.col(\"quote_abs\") / pl.col(\"quote_abs\").min()).log().sum(),\n",
    "        share_of_longs=pl.col(\"is_long\").sum() / pl.len(),\n",
    "        num_agg_trades=pl.len()\n",
    "    )\n",
    "    .filter(\n",
    "        pl.col(\"trade_time\").is_between(bounds.start_inclusive, bounds.end_exclusive)\n",
    "    )\n",
    ")"
   ]
  },
  {
   "cell_type": "code",
   "execution_count": 14,
   "id": "c5ea99d5-9076-4a8b-8ffb-553a8f488d83",
   "metadata": {},
   "outputs": [],
   "source": [
    "index: pd.DatetimeIndex = pd.date_range(\n",
    "    bounds.start_inclusive, bounds.end_exclusive, freq=timedelta(milliseconds=500)\n",
    ")\n",
    "df_index: pl.DataFrame = pl.DataFrame({\"sampled_time\": index})\n",
    "\n",
    "# left join to desired time index to make sure that dimensions are correct\n",
    "df_features: pl.DataFrame = df_index.join(\n",
    "    sampled_features, left_on=\"sampled_time\", right_on=\"trade_time\", how=\"left\"\n",
    ")"
   ]
  },
  {
   "cell_type": "markdown",
   "id": "27bcd689-a231-4d6c-b411-0afdea2f84ea",
   "metadata": {},
   "source": [
    "<h4>Validate that everything is computed correctly</h4>"
   ]
  },
  {
   "cell_type": "code",
   "execution_count": 50,
   "id": "c0a1f5a5-0272-4c4d-a070-fb358df4b0d4",
   "metadata": {},
   "outputs": [
    {
     "data": {
      "text/html": [
       "<div><style>\n",
       ".dataframe > thead > tr,\n",
       ".dataframe > tbody > tr {\n",
       "  text-align: right;\n",
       "  white-space: pre-wrap;\n",
       "}\n",
       "</style>\n",
       "<small>shape: (172_800, 7)</small><table border=\"1\" class=\"dataframe\"><thead><tr><th>asset_return</th><th>asset_hold_time</th><th>flow_imbalance</th><th>slippage_imbalance</th><th>powerlaw_alpha</th><th>share_of_longs</th><th>num_agg_trades</th></tr><tr><td>f64</td><td>f64</td><td>f64</td><td>f64</td><td>f64</td><td>f64</td><td>u32</td></tr></thead><tbody><tr><td>0.0</td><td>5.163866</td><td>-0.182741</td><td>NaN</td><td>1.913531</td><td>0.5</td><td>8</td></tr><tr><td>0.001069</td><td>5.306116</td><td>-0.972433</td><td>-1.0</td><td>1.407413</td><td>0.428571</td><td>14</td></tr><tr><td>-0.001069</td><td>5.496733</td><td>-0.963204</td><td>-1.0</td><td>1.414491</td><td>0.307692</td><td>26</td></tr><tr><td>-0.001069</td><td>5.86163</td><td>-0.915275</td><td>-1.0</td><td>1.403956</td><td>0.366667</td><td>30</td></tr><tr><td>0.0</td><td>6.297712</td><td>-0.907824</td><td>-1.0</td><td>1.411564</td><td>0.363636</td><td>33</td></tr><tr><td>&hellip;</td><td>&hellip;</td><td>&hellip;</td><td>&hellip;</td><td>&hellip;</td><td>&hellip;</td><td>&hellip;</td></tr><tr><td>0.061316</td><td>6.163597</td><td>0.979475</td><td>1.0</td><td>1.277792</td><td>0.555556</td><td>27</td></tr><tr><td>0.061316</td><td>5.445725</td><td>0.979664</td><td>1.0</td><td>1.270401</td><td>0.576923</td><td>26</td></tr><tr><td>0.060259</td><td>5.439602</td><td>0.706292</td><td>1.0</td><td>1.293981</td><td>0.517241</td><td>29</td></tr><tr><td>0.061316</td><td>6.063503</td><td>0.699403</td><td>1.0</td><td>1.300464</td><td>0.483871</td><td>31</td></tr><tr><td>0.061316</td><td>5.232094</td><td>0.702427</td><td>1.0</td><td>1.290115</td><td>0.533333</td><td>30</td></tr></tbody></table></div>"
      ],
      "text/plain": [
       "shape: (172_800, 7)\n",
       "┌──────────────┬─────────────┬─────────────┬─────────────┬─────────────┬─────────────┬─────────────┐\n",
       "│ asset_return ┆ asset_hold_ ┆ flow_imbala ┆ slippage_im ┆ powerlaw_al ┆ share_of_lo ┆ num_agg_tra │\n",
       "│ ---          ┆ time        ┆ nce         ┆ balance     ┆ pha         ┆ ngs         ┆ des         │\n",
       "│ f64          ┆ ---         ┆ ---         ┆ ---         ┆ ---         ┆ ---         ┆ ---         │\n",
       "│              ┆ f64         ┆ f64         ┆ f64         ┆ f64         ┆ f64         ┆ u32         │\n",
       "╞══════════════╪═════════════╪═════════════╪═════════════╪═════════════╪═════════════╪═════════════╡\n",
       "│ 0.0          ┆ 5.163866    ┆ -0.182741   ┆ NaN         ┆ 1.913531    ┆ 0.5         ┆ 8           │\n",
       "│ 0.001069     ┆ 5.306116    ┆ -0.972433   ┆ -1.0        ┆ 1.407413    ┆ 0.428571    ┆ 14          │\n",
       "│ -0.001069    ┆ 5.496733    ┆ -0.963204   ┆ -1.0        ┆ 1.414491    ┆ 0.307692    ┆ 26          │\n",
       "│ -0.001069    ┆ 5.86163     ┆ -0.915275   ┆ -1.0        ┆ 1.403956    ┆ 0.366667    ┆ 30          │\n",
       "│ 0.0          ┆ 6.297712    ┆ -0.907824   ┆ -1.0        ┆ 1.411564    ┆ 0.363636    ┆ 33          │\n",
       "│ …            ┆ …           ┆ …           ┆ …           ┆ …           ┆ …           ┆ …           │\n",
       "│ 0.061316     ┆ 6.163597    ┆ 0.979475    ┆ 1.0         ┆ 1.277792    ┆ 0.555556    ┆ 27          │\n",
       "│ 0.061316     ┆ 5.445725    ┆ 0.979664    ┆ 1.0         ┆ 1.270401    ┆ 0.576923    ┆ 26          │\n",
       "│ 0.060259     ┆ 5.439602    ┆ 0.706292    ┆ 1.0         ┆ 1.293981    ┆ 0.517241    ┆ 29          │\n",
       "│ 0.061316     ┆ 6.063503    ┆ 0.699403    ┆ 1.0         ┆ 1.300464    ┆ 0.483871    ┆ 31          │\n",
       "│ 0.061316     ┆ 5.232094    ┆ 0.702427    ┆ 1.0         ┆ 1.290115    ┆ 0.533333    ┆ 30          │\n",
       "└──────────────┴─────────────┴─────────────┴─────────────┴─────────────┴─────────────┴─────────────┘"
      ]
     },
     "execution_count": 50,
     "metadata": {},
     "output_type": "execute_result"
    }
   ],
   "source": [
    "df_features[:, 3:]"
   ]
  },
  {
   "cell_type": "code",
   "execution_count": 27,
   "id": "bf30add9-4cc3-4179-8525-a3c1eaf5b1ea",
   "metadata": {},
   "outputs": [
    {
     "data": {
      "text/html": [
       "<div><style>\n",
       ".dataframe > thead > tr,\n",
       ".dataframe > tbody > tr {\n",
       "  text-align: right;\n",
       "  white-space: pre-wrap;\n",
       "}\n",
       "</style>\n",
       "<small>shape: (1, 1)</small><table border=\"1\" class=\"dataframe\"><thead><tr><th>price_first_neg_lag</th></tr><tr><td>f64</td></tr></thead><tbody><tr><td>0.001069</td></tr></tbody></table></div>"
      ],
      "text/plain": [
       "shape: (1, 1)\n",
       "┌─────────────────────┐\n",
       "│ price_first_neg_lag │\n",
       "│ ---                 │\n",
       "│ f64                 │\n",
       "╞═════════════════════╡\n",
       "│ 0.001069            │\n",
       "└─────────────────────┘"
      ]
     },
     "execution_count": 27,
     "metadata": {},
     "output_type": "execute_result"
    }
   ],
   "source": [
    "(\n",
    "    df_trades\n",
    "    .filter(\n",
    "        pl.col(\"trade_time\").is_between(\n",
    "            pl.datetime(2024, 12, 31, 23, 59, 55, microsecond=500_000),\n",
    "            pl.datetime(2025,  1,  1,  0,  0,  0, microsecond=500_000)\n",
    "        )\n",
    "    )\n",
    "    .select(\n",
    "        (pl.col(\"price_first_neg_lag\").last() / pl.col(\"price_last_lag\").first() - 1) * 1e4\n",
    "    )\n",
    ")"
   ]
  },
  {
   "cell_type": "code",
   "execution_count": 33,
   "id": "8dc645f1-76d2-4522-afc7-f39e664a9fd1",
   "metadata": {},
   "outputs": [
    {
     "data": {
      "text/plain": [
       "500.0"
      ]
     },
     "execution_count": 33,
     "metadata": {},
     "output_type": "execute_result"
    }
   ],
   "source": [
    "timedelta(milliseconds=500).total_seconds() * 1000"
   ]
  }
 ],
 "metadata": {
  "kernelspec": {
   "display_name": "Python 3 (ipykernel)",
   "language": "python",
   "name": "python3"
  },
  "language_info": {
   "codemirror_mode": {
    "name": "ipython",
    "version": 3
   },
   "file_extension": ".py",
   "mimetype": "text/x-python",
   "name": "python",
   "nbconvert_exporter": "python",
   "pygments_lexer": "ipython3",
   "version": "3.12.4"
  }
 },
 "nbformat": 4,
 "nbformat_minor": 5
}
